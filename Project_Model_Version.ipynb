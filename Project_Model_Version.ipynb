{
  "nbformat": 4,
  "nbformat_minor": 0,
  "metadata": {
    "colab": {
      "provenance": []
    },
    "kernelspec": {
      "name": "python3",
      "display_name": "Python 3"
    },
    "language_info": {
      "name": "python"
    }
  },
  "cells": [
    {
      "cell_type": "code",
      "execution_count": null,
      "metadata": {
        "id": "Hzocz7xOIAc-"
      },
      "outputs": [],
      "source": [
        "import pandas as pd\n",
        "import numpy as np\n",
        "from textblob import TextBlob\n",
        "import re\n",
        "from sklearn.model_selection import train_test_split\n",
        "from sklearn.metrics import accuracy_score, classification_report\n",
        "from sklearn.discriminant_analysis import LinearDiscriminantAnalysis\n",
        "from sklearn.linear_model import LinearRegression\n",
        "from sklearn.metrics import classification_report, confusion_matrix, accuracy_score\n",
        "from sklearn.ensemble import RandomForestClassifier\n",
        "from sklearn.metrics import mean_squared_error\n",
        "from sklearn.model_selection import KFold\n",
        "import matplotlib.pyplot as plt\n",
        "import seaborn as sns"
      ]
    },
    {
      "cell_type": "code",
      "source": [],
      "metadata": {
        "id": "X7wYqAKpb0pu"
      },
      "execution_count": null,
      "outputs": []
    },
    {
      "cell_type": "code",
      "source": [
        "from google.colab import files\n",
        "data_to_load = files.upload()"
      ],
      "metadata": {
        "colab": {
          "base_uri": "https://localhost:8080/",
          "height": 74
        },
        "id": "m2qg4SSKWnFI",
        "outputId": "7efd9102-7402-4290-846f-7133b1c0ffde"
      },
      "execution_count": null,
      "outputs": [
        {
          "output_type": "display_data",
          "data": {
            "text/plain": [
              "<IPython.core.display.HTML object>"
            ],
            "text/html": [
              "\n",
              "     <input type=\"file\" id=\"files-0bb8f2af-a8c5-42dc-8f60-a1bc7ce4cf94\" name=\"files[]\" multiple disabled\n",
              "        style=\"border:none\" />\n",
              "     <output id=\"result-0bb8f2af-a8c5-42dc-8f60-a1bc7ce4cf94\">\n",
              "      Upload widget is only available when the cell has been executed in the\n",
              "      current browser session. Please rerun this cell to enable.\n",
              "      </output>\n",
              "      <script>// Copyright 2017 Google LLC\n",
              "//\n",
              "// Licensed under the Apache License, Version 2.0 (the \"License\");\n",
              "// you may not use this file except in compliance with the License.\n",
              "// You may obtain a copy of the License at\n",
              "//\n",
              "//      http://www.apache.org/licenses/LICENSE-2.0\n",
              "//\n",
              "// Unless required by applicable law or agreed to in writing, software\n",
              "// distributed under the License is distributed on an \"AS IS\" BASIS,\n",
              "// WITHOUT WARRANTIES OR CONDITIONS OF ANY KIND, either express or implied.\n",
              "// See the License for the specific language governing permissions and\n",
              "// limitations under the License.\n",
              "\n",
              "/**\n",
              " * @fileoverview Helpers for google.colab Python module.\n",
              " */\n",
              "(function(scope) {\n",
              "function span(text, styleAttributes = {}) {\n",
              "  const element = document.createElement('span');\n",
              "  element.textContent = text;\n",
              "  for (const key of Object.keys(styleAttributes)) {\n",
              "    element.style[key] = styleAttributes[key];\n",
              "  }\n",
              "  return element;\n",
              "}\n",
              "\n",
              "// Max number of bytes which will be uploaded at a time.\n",
              "const MAX_PAYLOAD_SIZE = 100 * 1024;\n",
              "\n",
              "function _uploadFiles(inputId, outputId) {\n",
              "  const steps = uploadFilesStep(inputId, outputId);\n",
              "  const outputElement = document.getElementById(outputId);\n",
              "  // Cache steps on the outputElement to make it available for the next call\n",
              "  // to uploadFilesContinue from Python.\n",
              "  outputElement.steps = steps;\n",
              "\n",
              "  return _uploadFilesContinue(outputId);\n",
              "}\n",
              "\n",
              "// This is roughly an async generator (not supported in the browser yet),\n",
              "// where there are multiple asynchronous steps and the Python side is going\n",
              "// to poll for completion of each step.\n",
              "// This uses a Promise to block the python side on completion of each step,\n",
              "// then passes the result of the previous step as the input to the next step.\n",
              "function _uploadFilesContinue(outputId) {\n",
              "  const outputElement = document.getElementById(outputId);\n",
              "  const steps = outputElement.steps;\n",
              "\n",
              "  const next = steps.next(outputElement.lastPromiseValue);\n",
              "  return Promise.resolve(next.value.promise).then((value) => {\n",
              "    // Cache the last promise value to make it available to the next\n",
              "    // step of the generator.\n",
              "    outputElement.lastPromiseValue = value;\n",
              "    return next.value.response;\n",
              "  });\n",
              "}\n",
              "\n",
              "/**\n",
              " * Generator function which is called between each async step of the upload\n",
              " * process.\n",
              " * @param {string} inputId Element ID of the input file picker element.\n",
              " * @param {string} outputId Element ID of the output display.\n",
              " * @return {!Iterable<!Object>} Iterable of next steps.\n",
              " */\n",
              "function* uploadFilesStep(inputId, outputId) {\n",
              "  const inputElement = document.getElementById(inputId);\n",
              "  inputElement.disabled = false;\n",
              "\n",
              "  const outputElement = document.getElementById(outputId);\n",
              "  outputElement.innerHTML = '';\n",
              "\n",
              "  const pickedPromise = new Promise((resolve) => {\n",
              "    inputElement.addEventListener('change', (e) => {\n",
              "      resolve(e.target.files);\n",
              "    });\n",
              "  });\n",
              "\n",
              "  const cancel = document.createElement('button');\n",
              "  inputElement.parentElement.appendChild(cancel);\n",
              "  cancel.textContent = 'Cancel upload';\n",
              "  const cancelPromise = new Promise((resolve) => {\n",
              "    cancel.onclick = () => {\n",
              "      resolve(null);\n",
              "    };\n",
              "  });\n",
              "\n",
              "  // Wait for the user to pick the files.\n",
              "  const files = yield {\n",
              "    promise: Promise.race([pickedPromise, cancelPromise]),\n",
              "    response: {\n",
              "      action: 'starting',\n",
              "    }\n",
              "  };\n",
              "\n",
              "  cancel.remove();\n",
              "\n",
              "  // Disable the input element since further picks are not allowed.\n",
              "  inputElement.disabled = true;\n",
              "\n",
              "  if (!files) {\n",
              "    return {\n",
              "      response: {\n",
              "        action: 'complete',\n",
              "      }\n",
              "    };\n",
              "  }\n",
              "\n",
              "  for (const file of files) {\n",
              "    const li = document.createElement('li');\n",
              "    li.append(span(file.name, {fontWeight: 'bold'}));\n",
              "    li.append(span(\n",
              "        `(${file.type || 'n/a'}) - ${file.size} bytes, ` +\n",
              "        `last modified: ${\n",
              "            file.lastModifiedDate ? file.lastModifiedDate.toLocaleDateString() :\n",
              "                                    'n/a'} - `));\n",
              "    const percent = span('0% done');\n",
              "    li.appendChild(percent);\n",
              "\n",
              "    outputElement.appendChild(li);\n",
              "\n",
              "    const fileDataPromise = new Promise((resolve) => {\n",
              "      const reader = new FileReader();\n",
              "      reader.onload = (e) => {\n",
              "        resolve(e.target.result);\n",
              "      };\n",
              "      reader.readAsArrayBuffer(file);\n",
              "    });\n",
              "    // Wait for the data to be ready.\n",
              "    let fileData = yield {\n",
              "      promise: fileDataPromise,\n",
              "      response: {\n",
              "        action: 'continue',\n",
              "      }\n",
              "    };\n",
              "\n",
              "    // Use a chunked sending to avoid message size limits. See b/62115660.\n",
              "    let position = 0;\n",
              "    do {\n",
              "      const length = Math.min(fileData.byteLength - position, MAX_PAYLOAD_SIZE);\n",
              "      const chunk = new Uint8Array(fileData, position, length);\n",
              "      position += length;\n",
              "\n",
              "      const base64 = btoa(String.fromCharCode.apply(null, chunk));\n",
              "      yield {\n",
              "        response: {\n",
              "          action: 'append',\n",
              "          file: file.name,\n",
              "          data: base64,\n",
              "        },\n",
              "      };\n",
              "\n",
              "      let percentDone = fileData.byteLength === 0 ?\n",
              "          100 :\n",
              "          Math.round((position / fileData.byteLength) * 100);\n",
              "      percent.textContent = `${percentDone}% done`;\n",
              "\n",
              "    } while (position < fileData.byteLength);\n",
              "  }\n",
              "\n",
              "  // All done.\n",
              "  yield {\n",
              "    response: {\n",
              "      action: 'complete',\n",
              "    }\n",
              "  };\n",
              "}\n",
              "\n",
              "scope.google = scope.google || {};\n",
              "scope.google.colab = scope.google.colab || {};\n",
              "scope.google.colab._files = {\n",
              "  _uploadFiles,\n",
              "  _uploadFilesContinue,\n",
              "};\n",
              "})(self);\n",
              "</script> "
            ]
          },
          "metadata": {}
        },
        {
          "output_type": "stream",
          "name": "stdout",
          "text": [
            "Saving ALLIANCE FINANCE COMPANY PLC.csv to ALLIANCE FINANCE COMPANY PLC.csv\n"
          ]
        }
      ]
    },
    {
      "cell_type": "code",
      "source": [
        "import io\n",
        "df = pd.read_csv(io.BytesIO(data_to_load['ALLIANCE FINANCE COMPANY PLC.csv']))\n",
        "df"
      ],
      "metadata": {
        "colab": {
          "base_uri": "https://localhost:8080/",
          "height": 748
        },
        "id": "gVdNTmmdW4dQ",
        "outputId": "c2f512fe-9759-4c85-d6f2-e6ce9c14b02e"
      },
      "execution_count": null,
      "outputs": [
        {
          "output_type": "execute_result",
          "data": {
            "text/plain": [
              "    Trade_Date  Open   High    Low   Close  Change  Lable  \\\n",
              "0      6/28/22   50.5   52.1  50.5   51.00    0.50      1   \n",
              "1      6/27/22   53.6   53.6  51.2   53.80    0.20      1   \n",
              "2      6/27/22   53.6   53.6  51.2   53.80    0.20      1   \n",
              "3      6/22/22   51.0   51.0  50.0   50.50   -0.50      0   \n",
              "4      6/22/22   51.0   51.0  50.0   50.50   -0.50      0   \n",
              "..         ...    ...    ...   ...     ...     ...    ...   \n",
              "164   12/28/21  105.0  105.0  96.5  100.00   -5.00      0   \n",
              "165   12/27/21   95.0  112.0  95.0  103.75    8.75      1   \n",
              "166   12/27/21   95.0  112.0  95.0  103.75    8.75      1   \n",
              "167   12/24/21   91.0   92.6  89.0   90.30   -0.70      0   \n",
              "168   12/23/21   92.8   95.0  90.0   91.60   -1.20      0   \n",
              "\n",
              "                                                Tweets  Negative  Neutral  \\\n",
              "0     LIOC top 100 SH comparison 30/05 to 20/06    ...     0.000    0.795   \n",
              "1    If you have a little bit of commercial sense, ...     0.194    0.806   \n",
              "2    _UNP will have a separate hell to go for rescu...     0.304    0.696   \n",
              "3     Entire Sri Lanka is grateful to team Australi...     0.000    0.647   \n",
              "4                           CSE https//t.co/OREuFsx5Kl     0.000    1.000   \n",
              "..                                                 ...       ...      ...   \n",
              "164   Yeah. Very strong price action. SHL is the ul...     0.000    0.651   \n",
              "165                       _Media Market capitalization     0.000    1.000   \n",
              "166    Thought to eliminate any value consideration...     0.000    0.670   \n",
              "167  ? I rarely buy a stock that has corrected 60% ...     0.000    1.000   \n",
              "168                          One of fabulous quote by      0.000    0.541   \n",
              "\n",
              "     Positive  Compound  Subjectivity  Polarity Sentiment_Analysis  \n",
              "0       0.205    0.2023      0.500000  0.500000           Positive  \n",
              "1       0.000   -0.8555      0.363333 -0.107500           Negative  \n",
              "2       0.000   -0.8625      0.800000 -0.800000           Negative  \n",
              "3       0.353    0.9729      0.491667  0.166667           Positive  \n",
              "4       0.000    0.0000      0.000000  0.000000            Neutral  \n",
              "..        ...       ...           ...       ...                ...  \n",
              "164     0.349    0.8955      0.475565  0.195119           Positive  \n",
              "165     0.000    0.0000      0.000000  0.000000            Neutral  \n",
              "166     0.330    0.9226      0.585714  0.000000            Neutral  \n",
              "167     0.000    0.0000      0.633333  0.433333           Positive  \n",
              "168     0.459    0.5267      1.000000  0.400000           Positive  \n",
              "\n",
              "[169 rows x 15 columns]"
            ],
            "text/html": [
              "\n",
              "  <div id=\"df-332f2fcf-c43e-4098-9e2e-c7ad32a4910b\">\n",
              "    <div class=\"colab-df-container\">\n",
              "      <div>\n",
              "<style scoped>\n",
              "    .dataframe tbody tr th:only-of-type {\n",
              "        vertical-align: middle;\n",
              "    }\n",
              "\n",
              "    .dataframe tbody tr th {\n",
              "        vertical-align: top;\n",
              "    }\n",
              "\n",
              "    .dataframe thead th {\n",
              "        text-align: right;\n",
              "    }\n",
              "</style>\n",
              "<table border=\"1\" class=\"dataframe\">\n",
              "  <thead>\n",
              "    <tr style=\"text-align: right;\">\n",
              "      <th></th>\n",
              "      <th>Trade_Date</th>\n",
              "      <th>Open</th>\n",
              "      <th>High</th>\n",
              "      <th>Low</th>\n",
              "      <th>Close</th>\n",
              "      <th>Change</th>\n",
              "      <th>Lable</th>\n",
              "      <th>Tweets</th>\n",
              "      <th>Negative</th>\n",
              "      <th>Neutral</th>\n",
              "      <th>Positive</th>\n",
              "      <th>Compound</th>\n",
              "      <th>Subjectivity</th>\n",
              "      <th>Polarity</th>\n",
              "      <th>Sentiment_Analysis</th>\n",
              "    </tr>\n",
              "  </thead>\n",
              "  <tbody>\n",
              "    <tr>\n",
              "      <th>0</th>\n",
              "      <td>6/28/22</td>\n",
              "      <td>50.5</td>\n",
              "      <td>52.1</td>\n",
              "      <td>50.5</td>\n",
              "      <td>51.00</td>\n",
              "      <td>0.50</td>\n",
              "      <td>1</td>\n",
              "      <td>LIOC top 100 SH comparison 30/05 to 20/06    ...</td>\n",
              "      <td>0.000</td>\n",
              "      <td>0.795</td>\n",
              "      <td>0.205</td>\n",
              "      <td>0.2023</td>\n",
              "      <td>0.500000</td>\n",
              "      <td>0.500000</td>\n",
              "      <td>Positive</td>\n",
              "    </tr>\n",
              "    <tr>\n",
              "      <th>1</th>\n",
              "      <td>6/27/22</td>\n",
              "      <td>53.6</td>\n",
              "      <td>53.6</td>\n",
              "      <td>51.2</td>\n",
              "      <td>53.80</td>\n",
              "      <td>0.20</td>\n",
              "      <td>1</td>\n",
              "      <td>If you have a little bit of commercial sense, ...</td>\n",
              "      <td>0.194</td>\n",
              "      <td>0.806</td>\n",
              "      <td>0.000</td>\n",
              "      <td>-0.8555</td>\n",
              "      <td>0.363333</td>\n",
              "      <td>-0.107500</td>\n",
              "      <td>Negative</td>\n",
              "    </tr>\n",
              "    <tr>\n",
              "      <th>2</th>\n",
              "      <td>6/27/22</td>\n",
              "      <td>53.6</td>\n",
              "      <td>53.6</td>\n",
              "      <td>51.2</td>\n",
              "      <td>53.80</td>\n",
              "      <td>0.20</td>\n",
              "      <td>1</td>\n",
              "      <td>_UNP will have a separate hell to go for rescu...</td>\n",
              "      <td>0.304</td>\n",
              "      <td>0.696</td>\n",
              "      <td>0.000</td>\n",
              "      <td>-0.8625</td>\n",
              "      <td>0.800000</td>\n",
              "      <td>-0.800000</td>\n",
              "      <td>Negative</td>\n",
              "    </tr>\n",
              "    <tr>\n",
              "      <th>3</th>\n",
              "      <td>6/22/22</td>\n",
              "      <td>51.0</td>\n",
              "      <td>51.0</td>\n",
              "      <td>50.0</td>\n",
              "      <td>50.50</td>\n",
              "      <td>-0.50</td>\n",
              "      <td>0</td>\n",
              "      <td>Entire Sri Lanka is grateful to team Australi...</td>\n",
              "      <td>0.000</td>\n",
              "      <td>0.647</td>\n",
              "      <td>0.353</td>\n",
              "      <td>0.9729</td>\n",
              "      <td>0.491667</td>\n",
              "      <td>0.166667</td>\n",
              "      <td>Positive</td>\n",
              "    </tr>\n",
              "    <tr>\n",
              "      <th>4</th>\n",
              "      <td>6/22/22</td>\n",
              "      <td>51.0</td>\n",
              "      <td>51.0</td>\n",
              "      <td>50.0</td>\n",
              "      <td>50.50</td>\n",
              "      <td>-0.50</td>\n",
              "      <td>0</td>\n",
              "      <td>CSE https//t.co/OREuFsx5Kl</td>\n",
              "      <td>0.000</td>\n",
              "      <td>1.000</td>\n",
              "      <td>0.000</td>\n",
              "      <td>0.0000</td>\n",
              "      <td>0.000000</td>\n",
              "      <td>0.000000</td>\n",
              "      <td>Neutral</td>\n",
              "    </tr>\n",
              "    <tr>\n",
              "      <th>...</th>\n",
              "      <td>...</td>\n",
              "      <td>...</td>\n",
              "      <td>...</td>\n",
              "      <td>...</td>\n",
              "      <td>...</td>\n",
              "      <td>...</td>\n",
              "      <td>...</td>\n",
              "      <td>...</td>\n",
              "      <td>...</td>\n",
              "      <td>...</td>\n",
              "      <td>...</td>\n",
              "      <td>...</td>\n",
              "      <td>...</td>\n",
              "      <td>...</td>\n",
              "      <td>...</td>\n",
              "    </tr>\n",
              "    <tr>\n",
              "      <th>164</th>\n",
              "      <td>12/28/21</td>\n",
              "      <td>105.0</td>\n",
              "      <td>105.0</td>\n",
              "      <td>96.5</td>\n",
              "      <td>100.00</td>\n",
              "      <td>-5.00</td>\n",
              "      <td>0</td>\n",
              "      <td>Yeah. Very strong price action. SHL is the ul...</td>\n",
              "      <td>0.000</td>\n",
              "      <td>0.651</td>\n",
              "      <td>0.349</td>\n",
              "      <td>0.8955</td>\n",
              "      <td>0.475565</td>\n",
              "      <td>0.195119</td>\n",
              "      <td>Positive</td>\n",
              "    </tr>\n",
              "    <tr>\n",
              "      <th>165</th>\n",
              "      <td>12/27/21</td>\n",
              "      <td>95.0</td>\n",
              "      <td>112.0</td>\n",
              "      <td>95.0</td>\n",
              "      <td>103.75</td>\n",
              "      <td>8.75</td>\n",
              "      <td>1</td>\n",
              "      <td>_Media Market capitalization</td>\n",
              "      <td>0.000</td>\n",
              "      <td>1.000</td>\n",
              "      <td>0.000</td>\n",
              "      <td>0.0000</td>\n",
              "      <td>0.000000</td>\n",
              "      <td>0.000000</td>\n",
              "      <td>Neutral</td>\n",
              "    </tr>\n",
              "    <tr>\n",
              "      <th>166</th>\n",
              "      <td>12/27/21</td>\n",
              "      <td>95.0</td>\n",
              "      <td>112.0</td>\n",
              "      <td>95.0</td>\n",
              "      <td>103.75</td>\n",
              "      <td>8.75</td>\n",
              "      <td>1</td>\n",
              "      <td>Thought to eliminate any value consideration...</td>\n",
              "      <td>0.000</td>\n",
              "      <td>0.670</td>\n",
              "      <td>0.330</td>\n",
              "      <td>0.9226</td>\n",
              "      <td>0.585714</td>\n",
              "      <td>0.000000</td>\n",
              "      <td>Neutral</td>\n",
              "    </tr>\n",
              "    <tr>\n",
              "      <th>167</th>\n",
              "      <td>12/24/21</td>\n",
              "      <td>91.0</td>\n",
              "      <td>92.6</td>\n",
              "      <td>89.0</td>\n",
              "      <td>90.30</td>\n",
              "      <td>-0.70</td>\n",
              "      <td>0</td>\n",
              "      <td>? I rarely buy a stock that has corrected 60% ...</td>\n",
              "      <td>0.000</td>\n",
              "      <td>1.000</td>\n",
              "      <td>0.000</td>\n",
              "      <td>0.0000</td>\n",
              "      <td>0.633333</td>\n",
              "      <td>0.433333</td>\n",
              "      <td>Positive</td>\n",
              "    </tr>\n",
              "    <tr>\n",
              "      <th>168</th>\n",
              "      <td>12/23/21</td>\n",
              "      <td>92.8</td>\n",
              "      <td>95.0</td>\n",
              "      <td>90.0</td>\n",
              "      <td>91.60</td>\n",
              "      <td>-1.20</td>\n",
              "      <td>0</td>\n",
              "      <td>One of fabulous quote by</td>\n",
              "      <td>0.000</td>\n",
              "      <td>0.541</td>\n",
              "      <td>0.459</td>\n",
              "      <td>0.5267</td>\n",
              "      <td>1.000000</td>\n",
              "      <td>0.400000</td>\n",
              "      <td>Positive</td>\n",
              "    </tr>\n",
              "  </tbody>\n",
              "</table>\n",
              "<p>169 rows × 15 columns</p>\n",
              "</div>\n",
              "      <button class=\"colab-df-convert\" onclick=\"convertToInteractive('df-332f2fcf-c43e-4098-9e2e-c7ad32a4910b')\"\n",
              "              title=\"Convert this dataframe to an interactive table.\"\n",
              "              style=\"display:none;\">\n",
              "        \n",
              "  <svg xmlns=\"http://www.w3.org/2000/svg\" height=\"24px\"viewBox=\"0 0 24 24\"\n",
              "       width=\"24px\">\n",
              "    <path d=\"M0 0h24v24H0V0z\" fill=\"none\"/>\n",
              "    <path d=\"M18.56 5.44l.94 2.06.94-2.06 2.06-.94-2.06-.94-.94-2.06-.94 2.06-2.06.94zm-11 1L8.5 8.5l.94-2.06 2.06-.94-2.06-.94L8.5 2.5l-.94 2.06-2.06.94zm10 10l.94 2.06.94-2.06 2.06-.94-2.06-.94-.94-2.06-.94 2.06-2.06.94z\"/><path d=\"M17.41 7.96l-1.37-1.37c-.4-.4-.92-.59-1.43-.59-.52 0-1.04.2-1.43.59L10.3 9.45l-7.72 7.72c-.78.78-.78 2.05 0 2.83L4 21.41c.39.39.9.59 1.41.59.51 0 1.02-.2 1.41-.59l7.78-7.78 2.81-2.81c.8-.78.8-2.07 0-2.86zM5.41 20L4 18.59l7.72-7.72 1.47 1.35L5.41 20z\"/>\n",
              "  </svg>\n",
              "      </button>\n",
              "      \n",
              "  <style>\n",
              "    .colab-df-container {\n",
              "      display:flex;\n",
              "      flex-wrap:wrap;\n",
              "      gap: 12px;\n",
              "    }\n",
              "\n",
              "    .colab-df-convert {\n",
              "      background-color: #E8F0FE;\n",
              "      border: none;\n",
              "      border-radius: 50%;\n",
              "      cursor: pointer;\n",
              "      display: none;\n",
              "      fill: #1967D2;\n",
              "      height: 32px;\n",
              "      padding: 0 0 0 0;\n",
              "      width: 32px;\n",
              "    }\n",
              "\n",
              "    .colab-df-convert:hover {\n",
              "      background-color: #E2EBFA;\n",
              "      box-shadow: 0px 1px 2px rgba(60, 64, 67, 0.3), 0px 1px 3px 1px rgba(60, 64, 67, 0.15);\n",
              "      fill: #174EA6;\n",
              "    }\n",
              "\n",
              "    [theme=dark] .colab-df-convert {\n",
              "      background-color: #3B4455;\n",
              "      fill: #D2E3FC;\n",
              "    }\n",
              "\n",
              "    [theme=dark] .colab-df-convert:hover {\n",
              "      background-color: #434B5C;\n",
              "      box-shadow: 0px 1px 3px 1px rgba(0, 0, 0, 0.15);\n",
              "      filter: drop-shadow(0px 1px 2px rgba(0, 0, 0, 0.3));\n",
              "      fill: #FFFFFF;\n",
              "    }\n",
              "  </style>\n",
              "\n",
              "      <script>\n",
              "        const buttonEl =\n",
              "          document.querySelector('#df-332f2fcf-c43e-4098-9e2e-c7ad32a4910b button.colab-df-convert');\n",
              "        buttonEl.style.display =\n",
              "          google.colab.kernel.accessAllowed ? 'block' : 'none';\n",
              "\n",
              "        async function convertToInteractive(key) {\n",
              "          const element = document.querySelector('#df-332f2fcf-c43e-4098-9e2e-c7ad32a4910b');\n",
              "          const dataTable =\n",
              "            await google.colab.kernel.invokeFunction('convertToInteractive',\n",
              "                                                     [key], {});\n",
              "          if (!dataTable) return;\n",
              "\n",
              "          const docLinkHtml = 'Like what you see? Visit the ' +\n",
              "            '<a target=\"_blank\" href=https://colab.research.google.com/notebooks/data_table.ipynb>data table notebook</a>'\n",
              "            + ' to learn more about interactive tables.';\n",
              "          element.innerHTML = '';\n",
              "          dataTable['output_type'] = 'display_data';\n",
              "          await google.colab.output.renderOutput(dataTable, element);\n",
              "          const docLink = document.createElement('div');\n",
              "          docLink.innerHTML = docLinkHtml;\n",
              "          element.appendChild(docLink);\n",
              "        }\n",
              "      </script>\n",
              "    </div>\n",
              "  </div>\n",
              "  "
            ]
          },
          "metadata": {},
          "execution_count": 3
        }
      ]
    },
    {
      "cell_type": "code",
      "source": [
        "df2=df\n",
        "df.drop(\"Sentiment_Analysis\",axis=1,inplace=True)\n",
        "df2"
      ],
      "metadata": {
        "colab": {
          "base_uri": "https://localhost:8080/",
          "height": 607
        },
        "id": "CZnhIJXv8gCa",
        "outputId": "0f2ca4fc-0575-47f7-e851-aa0a83d17cde"
      },
      "execution_count": null,
      "outputs": [
        {
          "output_type": "execute_result",
          "data": {
            "text/plain": [
              "    Trade_Date  Open   High    Low   Close  Change  Lable  \\\n",
              "0      6/28/22   50.5   52.1  50.5   51.00    0.50      1   \n",
              "1      6/27/22   53.6   53.6  51.2   53.80    0.20      1   \n",
              "2      6/27/22   53.6   53.6  51.2   53.80    0.20      1   \n",
              "3      6/22/22   51.0   51.0  50.0   50.50   -0.50      0   \n",
              "4      6/22/22   51.0   51.0  50.0   50.50   -0.50      0   \n",
              "..         ...    ...    ...   ...     ...     ...    ...   \n",
              "164   12/28/21  105.0  105.0  96.5  100.00   -5.00      0   \n",
              "165   12/27/21   95.0  112.0  95.0  103.75    8.75      1   \n",
              "166   12/27/21   95.0  112.0  95.0  103.75    8.75      1   \n",
              "167   12/24/21   91.0   92.6  89.0   90.30   -0.70      0   \n",
              "168   12/23/21   92.8   95.0  90.0   91.60   -1.20      0   \n",
              "\n",
              "                                                Tweets  Negative  Neutral  \\\n",
              "0     LIOC top 100 SH comparison 30/05 to 20/06    ...     0.000    0.795   \n",
              "1    If you have a little bit of commercial sense, ...     0.194    0.806   \n",
              "2    _UNP will have a separate hell to go for rescu...     0.304    0.696   \n",
              "3     Entire Sri Lanka is grateful to team Australi...     0.000    0.647   \n",
              "4                           CSE https//t.co/OREuFsx5Kl     0.000    1.000   \n",
              "..                                                 ...       ...      ...   \n",
              "164   Yeah. Very strong price action. SHL is the ul...     0.000    0.651   \n",
              "165                       _Media Market capitalization     0.000    1.000   \n",
              "166    Thought to eliminate any value consideration...     0.000    0.670   \n",
              "167  ? I rarely buy a stock that has corrected 60% ...     0.000    1.000   \n",
              "168                          One of fabulous quote by      0.000    0.541   \n",
              "\n",
              "     Positive  Compound  Subjectivity  Polarity  \n",
              "0       0.205    0.2023      0.500000  0.500000  \n",
              "1       0.000   -0.8555      0.363333 -0.107500  \n",
              "2       0.000   -0.8625      0.800000 -0.800000  \n",
              "3       0.353    0.9729      0.491667  0.166667  \n",
              "4       0.000    0.0000      0.000000  0.000000  \n",
              "..        ...       ...           ...       ...  \n",
              "164     0.349    0.8955      0.475565  0.195119  \n",
              "165     0.000    0.0000      0.000000  0.000000  \n",
              "166     0.330    0.9226      0.585714  0.000000  \n",
              "167     0.000    0.0000      0.633333  0.433333  \n",
              "168     0.459    0.5267      1.000000  0.400000  \n",
              "\n",
              "[169 rows x 14 columns]"
            ],
            "text/html": [
              "\n",
              "  <div id=\"df-9ed129ca-03d5-46c9-bbb0-9845b385d539\">\n",
              "    <div class=\"colab-df-container\">\n",
              "      <div>\n",
              "<style scoped>\n",
              "    .dataframe tbody tr th:only-of-type {\n",
              "        vertical-align: middle;\n",
              "    }\n",
              "\n",
              "    .dataframe tbody tr th {\n",
              "        vertical-align: top;\n",
              "    }\n",
              "\n",
              "    .dataframe thead th {\n",
              "        text-align: right;\n",
              "    }\n",
              "</style>\n",
              "<table border=\"1\" class=\"dataframe\">\n",
              "  <thead>\n",
              "    <tr style=\"text-align: right;\">\n",
              "      <th></th>\n",
              "      <th>Trade_Date</th>\n",
              "      <th>Open</th>\n",
              "      <th>High</th>\n",
              "      <th>Low</th>\n",
              "      <th>Close</th>\n",
              "      <th>Change</th>\n",
              "      <th>Lable</th>\n",
              "      <th>Tweets</th>\n",
              "      <th>Negative</th>\n",
              "      <th>Neutral</th>\n",
              "      <th>Positive</th>\n",
              "      <th>Compound</th>\n",
              "      <th>Subjectivity</th>\n",
              "      <th>Polarity</th>\n",
              "    </tr>\n",
              "  </thead>\n",
              "  <tbody>\n",
              "    <tr>\n",
              "      <th>0</th>\n",
              "      <td>6/28/22</td>\n",
              "      <td>50.5</td>\n",
              "      <td>52.1</td>\n",
              "      <td>50.5</td>\n",
              "      <td>51.00</td>\n",
              "      <td>0.50</td>\n",
              "      <td>1</td>\n",
              "      <td>LIOC top 100 SH comparison 30/05 to 20/06    ...</td>\n",
              "      <td>0.000</td>\n",
              "      <td>0.795</td>\n",
              "      <td>0.205</td>\n",
              "      <td>0.2023</td>\n",
              "      <td>0.500000</td>\n",
              "      <td>0.500000</td>\n",
              "    </tr>\n",
              "    <tr>\n",
              "      <th>1</th>\n",
              "      <td>6/27/22</td>\n",
              "      <td>53.6</td>\n",
              "      <td>53.6</td>\n",
              "      <td>51.2</td>\n",
              "      <td>53.80</td>\n",
              "      <td>0.20</td>\n",
              "      <td>1</td>\n",
              "      <td>If you have a little bit of commercial sense, ...</td>\n",
              "      <td>0.194</td>\n",
              "      <td>0.806</td>\n",
              "      <td>0.000</td>\n",
              "      <td>-0.8555</td>\n",
              "      <td>0.363333</td>\n",
              "      <td>-0.107500</td>\n",
              "    </tr>\n",
              "    <tr>\n",
              "      <th>2</th>\n",
              "      <td>6/27/22</td>\n",
              "      <td>53.6</td>\n",
              "      <td>53.6</td>\n",
              "      <td>51.2</td>\n",
              "      <td>53.80</td>\n",
              "      <td>0.20</td>\n",
              "      <td>1</td>\n",
              "      <td>_UNP will have a separate hell to go for rescu...</td>\n",
              "      <td>0.304</td>\n",
              "      <td>0.696</td>\n",
              "      <td>0.000</td>\n",
              "      <td>-0.8625</td>\n",
              "      <td>0.800000</td>\n",
              "      <td>-0.800000</td>\n",
              "    </tr>\n",
              "    <tr>\n",
              "      <th>3</th>\n",
              "      <td>6/22/22</td>\n",
              "      <td>51.0</td>\n",
              "      <td>51.0</td>\n",
              "      <td>50.0</td>\n",
              "      <td>50.50</td>\n",
              "      <td>-0.50</td>\n",
              "      <td>0</td>\n",
              "      <td>Entire Sri Lanka is grateful to team Australi...</td>\n",
              "      <td>0.000</td>\n",
              "      <td>0.647</td>\n",
              "      <td>0.353</td>\n",
              "      <td>0.9729</td>\n",
              "      <td>0.491667</td>\n",
              "      <td>0.166667</td>\n",
              "    </tr>\n",
              "    <tr>\n",
              "      <th>4</th>\n",
              "      <td>6/22/22</td>\n",
              "      <td>51.0</td>\n",
              "      <td>51.0</td>\n",
              "      <td>50.0</td>\n",
              "      <td>50.50</td>\n",
              "      <td>-0.50</td>\n",
              "      <td>0</td>\n",
              "      <td>CSE https//t.co/OREuFsx5Kl</td>\n",
              "      <td>0.000</td>\n",
              "      <td>1.000</td>\n",
              "      <td>0.000</td>\n",
              "      <td>0.0000</td>\n",
              "      <td>0.000000</td>\n",
              "      <td>0.000000</td>\n",
              "    </tr>\n",
              "    <tr>\n",
              "      <th>...</th>\n",
              "      <td>...</td>\n",
              "      <td>...</td>\n",
              "      <td>...</td>\n",
              "      <td>...</td>\n",
              "      <td>...</td>\n",
              "      <td>...</td>\n",
              "      <td>...</td>\n",
              "      <td>...</td>\n",
              "      <td>...</td>\n",
              "      <td>...</td>\n",
              "      <td>...</td>\n",
              "      <td>...</td>\n",
              "      <td>...</td>\n",
              "      <td>...</td>\n",
              "    </tr>\n",
              "    <tr>\n",
              "      <th>164</th>\n",
              "      <td>12/28/21</td>\n",
              "      <td>105.0</td>\n",
              "      <td>105.0</td>\n",
              "      <td>96.5</td>\n",
              "      <td>100.00</td>\n",
              "      <td>-5.00</td>\n",
              "      <td>0</td>\n",
              "      <td>Yeah. Very strong price action. SHL is the ul...</td>\n",
              "      <td>0.000</td>\n",
              "      <td>0.651</td>\n",
              "      <td>0.349</td>\n",
              "      <td>0.8955</td>\n",
              "      <td>0.475565</td>\n",
              "      <td>0.195119</td>\n",
              "    </tr>\n",
              "    <tr>\n",
              "      <th>165</th>\n",
              "      <td>12/27/21</td>\n",
              "      <td>95.0</td>\n",
              "      <td>112.0</td>\n",
              "      <td>95.0</td>\n",
              "      <td>103.75</td>\n",
              "      <td>8.75</td>\n",
              "      <td>1</td>\n",
              "      <td>_Media Market capitalization</td>\n",
              "      <td>0.000</td>\n",
              "      <td>1.000</td>\n",
              "      <td>0.000</td>\n",
              "      <td>0.0000</td>\n",
              "      <td>0.000000</td>\n",
              "      <td>0.000000</td>\n",
              "    </tr>\n",
              "    <tr>\n",
              "      <th>166</th>\n",
              "      <td>12/27/21</td>\n",
              "      <td>95.0</td>\n",
              "      <td>112.0</td>\n",
              "      <td>95.0</td>\n",
              "      <td>103.75</td>\n",
              "      <td>8.75</td>\n",
              "      <td>1</td>\n",
              "      <td>Thought to eliminate any value consideration...</td>\n",
              "      <td>0.000</td>\n",
              "      <td>0.670</td>\n",
              "      <td>0.330</td>\n",
              "      <td>0.9226</td>\n",
              "      <td>0.585714</td>\n",
              "      <td>0.000000</td>\n",
              "    </tr>\n",
              "    <tr>\n",
              "      <th>167</th>\n",
              "      <td>12/24/21</td>\n",
              "      <td>91.0</td>\n",
              "      <td>92.6</td>\n",
              "      <td>89.0</td>\n",
              "      <td>90.30</td>\n",
              "      <td>-0.70</td>\n",
              "      <td>0</td>\n",
              "      <td>? I rarely buy a stock that has corrected 60% ...</td>\n",
              "      <td>0.000</td>\n",
              "      <td>1.000</td>\n",
              "      <td>0.000</td>\n",
              "      <td>0.0000</td>\n",
              "      <td>0.633333</td>\n",
              "      <td>0.433333</td>\n",
              "    </tr>\n",
              "    <tr>\n",
              "      <th>168</th>\n",
              "      <td>12/23/21</td>\n",
              "      <td>92.8</td>\n",
              "      <td>95.0</td>\n",
              "      <td>90.0</td>\n",
              "      <td>91.60</td>\n",
              "      <td>-1.20</td>\n",
              "      <td>0</td>\n",
              "      <td>One of fabulous quote by</td>\n",
              "      <td>0.000</td>\n",
              "      <td>0.541</td>\n",
              "      <td>0.459</td>\n",
              "      <td>0.5267</td>\n",
              "      <td>1.000000</td>\n",
              "      <td>0.400000</td>\n",
              "    </tr>\n",
              "  </tbody>\n",
              "</table>\n",
              "<p>169 rows × 14 columns</p>\n",
              "</div>\n",
              "      <button class=\"colab-df-convert\" onclick=\"convertToInteractive('df-9ed129ca-03d5-46c9-bbb0-9845b385d539')\"\n",
              "              title=\"Convert this dataframe to an interactive table.\"\n",
              "              style=\"display:none;\">\n",
              "        \n",
              "  <svg xmlns=\"http://www.w3.org/2000/svg\" height=\"24px\"viewBox=\"0 0 24 24\"\n",
              "       width=\"24px\">\n",
              "    <path d=\"M0 0h24v24H0V0z\" fill=\"none\"/>\n",
              "    <path d=\"M18.56 5.44l.94 2.06.94-2.06 2.06-.94-2.06-.94-.94-2.06-.94 2.06-2.06.94zm-11 1L8.5 8.5l.94-2.06 2.06-.94-2.06-.94L8.5 2.5l-.94 2.06-2.06.94zm10 10l.94 2.06.94-2.06 2.06-.94-2.06-.94-.94-2.06-.94 2.06-2.06.94z\"/><path d=\"M17.41 7.96l-1.37-1.37c-.4-.4-.92-.59-1.43-.59-.52 0-1.04.2-1.43.59L10.3 9.45l-7.72 7.72c-.78.78-.78 2.05 0 2.83L4 21.41c.39.39.9.59 1.41.59.51 0 1.02-.2 1.41-.59l7.78-7.78 2.81-2.81c.8-.78.8-2.07 0-2.86zM5.41 20L4 18.59l7.72-7.72 1.47 1.35L5.41 20z\"/>\n",
              "  </svg>\n",
              "      </button>\n",
              "      \n",
              "  <style>\n",
              "    .colab-df-container {\n",
              "      display:flex;\n",
              "      flex-wrap:wrap;\n",
              "      gap: 12px;\n",
              "    }\n",
              "\n",
              "    .colab-df-convert {\n",
              "      background-color: #E8F0FE;\n",
              "      border: none;\n",
              "      border-radius: 50%;\n",
              "      cursor: pointer;\n",
              "      display: none;\n",
              "      fill: #1967D2;\n",
              "      height: 32px;\n",
              "      padding: 0 0 0 0;\n",
              "      width: 32px;\n",
              "    }\n",
              "\n",
              "    .colab-df-convert:hover {\n",
              "      background-color: #E2EBFA;\n",
              "      box-shadow: 0px 1px 2px rgba(60, 64, 67, 0.3), 0px 1px 3px 1px rgba(60, 64, 67, 0.15);\n",
              "      fill: #174EA6;\n",
              "    }\n",
              "\n",
              "    [theme=dark] .colab-df-convert {\n",
              "      background-color: #3B4455;\n",
              "      fill: #D2E3FC;\n",
              "    }\n",
              "\n",
              "    [theme=dark] .colab-df-convert:hover {\n",
              "      background-color: #434B5C;\n",
              "      box-shadow: 0px 1px 3px 1px rgba(0, 0, 0, 0.15);\n",
              "      filter: drop-shadow(0px 1px 2px rgba(0, 0, 0, 0.3));\n",
              "      fill: #FFFFFF;\n",
              "    }\n",
              "  </style>\n",
              "\n",
              "      <script>\n",
              "        const buttonEl =\n",
              "          document.querySelector('#df-9ed129ca-03d5-46c9-bbb0-9845b385d539 button.colab-df-convert');\n",
              "        buttonEl.style.display =\n",
              "          google.colab.kernel.accessAllowed ? 'block' : 'none';\n",
              "\n",
              "        async function convertToInteractive(key) {\n",
              "          const element = document.querySelector('#df-9ed129ca-03d5-46c9-bbb0-9845b385d539');\n",
              "          const dataTable =\n",
              "            await google.colab.kernel.invokeFunction('convertToInteractive',\n",
              "                                                     [key], {});\n",
              "          if (!dataTable) return;\n",
              "\n",
              "          const docLinkHtml = 'Like what you see? Visit the ' +\n",
              "            '<a target=\"_blank\" href=https://colab.research.google.com/notebooks/data_table.ipynb>data table notebook</a>'\n",
              "            + ' to learn more about interactive tables.';\n",
              "          element.innerHTML = '';\n",
              "          dataTable['output_type'] = 'display_data';\n",
              "          await google.colab.output.renderOutput(dataTable, element);\n",
              "          const docLink = document.createElement('div');\n",
              "          docLink.innerHTML = docLinkHtml;\n",
              "          element.appendChild(docLink);\n",
              "        }\n",
              "      </script>\n",
              "    </div>\n",
              "  </div>\n",
              "  "
            ]
          },
          "metadata": {},
          "execution_count": 4
        }
      ]
    },
    {
      "cell_type": "code",
      "source": [
        "df2.drop(\"Tweets\",axis=1,inplace=True)\n",
        "df2"
      ],
      "metadata": {
        "colab": {
          "base_uri": "https://localhost:8080/",
          "height": 424
        },
        "id": "s40k_N-P_fqA",
        "outputId": "ec0c8a09-55a2-4713-b57a-938d6e28a13d"
      },
      "execution_count": null,
      "outputs": [
        {
          "output_type": "execute_result",
          "data": {
            "text/plain": [
              "    Trade_Date  Open   High    Low   Close  Change  Lable  Negative  Neutral  \\\n",
              "0      6/28/22   50.5   52.1  50.5   51.00    0.50      1     0.000    0.795   \n",
              "1      6/27/22   53.6   53.6  51.2   53.80    0.20      1     0.194    0.806   \n",
              "2      6/27/22   53.6   53.6  51.2   53.80    0.20      1     0.304    0.696   \n",
              "3      6/22/22   51.0   51.0  50.0   50.50   -0.50      0     0.000    0.647   \n",
              "4      6/22/22   51.0   51.0  50.0   50.50   -0.50      0     0.000    1.000   \n",
              "..         ...    ...    ...   ...     ...     ...    ...       ...      ...   \n",
              "164   12/28/21  105.0  105.0  96.5  100.00   -5.00      0     0.000    0.651   \n",
              "165   12/27/21   95.0  112.0  95.0  103.75    8.75      1     0.000    1.000   \n",
              "166   12/27/21   95.0  112.0  95.0  103.75    8.75      1     0.000    0.670   \n",
              "167   12/24/21   91.0   92.6  89.0   90.30   -0.70      0     0.000    1.000   \n",
              "168   12/23/21   92.8   95.0  90.0   91.60   -1.20      0     0.000    0.541   \n",
              "\n",
              "     Positive  Compound  Subjectivity  Polarity  \n",
              "0       0.205    0.2023      0.500000  0.500000  \n",
              "1       0.000   -0.8555      0.363333 -0.107500  \n",
              "2       0.000   -0.8625      0.800000 -0.800000  \n",
              "3       0.353    0.9729      0.491667  0.166667  \n",
              "4       0.000    0.0000      0.000000  0.000000  \n",
              "..        ...       ...           ...       ...  \n",
              "164     0.349    0.8955      0.475565  0.195119  \n",
              "165     0.000    0.0000      0.000000  0.000000  \n",
              "166     0.330    0.9226      0.585714  0.000000  \n",
              "167     0.000    0.0000      0.633333  0.433333  \n",
              "168     0.459    0.5267      1.000000  0.400000  \n",
              "\n",
              "[169 rows x 13 columns]"
            ],
            "text/html": [
              "\n",
              "  <div id=\"df-d623899a-7346-44c8-adc1-5f3f0ffe921c\">\n",
              "    <div class=\"colab-df-container\">\n",
              "      <div>\n",
              "<style scoped>\n",
              "    .dataframe tbody tr th:only-of-type {\n",
              "        vertical-align: middle;\n",
              "    }\n",
              "\n",
              "    .dataframe tbody tr th {\n",
              "        vertical-align: top;\n",
              "    }\n",
              "\n",
              "    .dataframe thead th {\n",
              "        text-align: right;\n",
              "    }\n",
              "</style>\n",
              "<table border=\"1\" class=\"dataframe\">\n",
              "  <thead>\n",
              "    <tr style=\"text-align: right;\">\n",
              "      <th></th>\n",
              "      <th>Trade_Date</th>\n",
              "      <th>Open</th>\n",
              "      <th>High</th>\n",
              "      <th>Low</th>\n",
              "      <th>Close</th>\n",
              "      <th>Change</th>\n",
              "      <th>Lable</th>\n",
              "      <th>Negative</th>\n",
              "      <th>Neutral</th>\n",
              "      <th>Positive</th>\n",
              "      <th>Compound</th>\n",
              "      <th>Subjectivity</th>\n",
              "      <th>Polarity</th>\n",
              "    </tr>\n",
              "  </thead>\n",
              "  <tbody>\n",
              "    <tr>\n",
              "      <th>0</th>\n",
              "      <td>6/28/22</td>\n",
              "      <td>50.5</td>\n",
              "      <td>52.1</td>\n",
              "      <td>50.5</td>\n",
              "      <td>51.00</td>\n",
              "      <td>0.50</td>\n",
              "      <td>1</td>\n",
              "      <td>0.000</td>\n",
              "      <td>0.795</td>\n",
              "      <td>0.205</td>\n",
              "      <td>0.2023</td>\n",
              "      <td>0.500000</td>\n",
              "      <td>0.500000</td>\n",
              "    </tr>\n",
              "    <tr>\n",
              "      <th>1</th>\n",
              "      <td>6/27/22</td>\n",
              "      <td>53.6</td>\n",
              "      <td>53.6</td>\n",
              "      <td>51.2</td>\n",
              "      <td>53.80</td>\n",
              "      <td>0.20</td>\n",
              "      <td>1</td>\n",
              "      <td>0.194</td>\n",
              "      <td>0.806</td>\n",
              "      <td>0.000</td>\n",
              "      <td>-0.8555</td>\n",
              "      <td>0.363333</td>\n",
              "      <td>-0.107500</td>\n",
              "    </tr>\n",
              "    <tr>\n",
              "      <th>2</th>\n",
              "      <td>6/27/22</td>\n",
              "      <td>53.6</td>\n",
              "      <td>53.6</td>\n",
              "      <td>51.2</td>\n",
              "      <td>53.80</td>\n",
              "      <td>0.20</td>\n",
              "      <td>1</td>\n",
              "      <td>0.304</td>\n",
              "      <td>0.696</td>\n",
              "      <td>0.000</td>\n",
              "      <td>-0.8625</td>\n",
              "      <td>0.800000</td>\n",
              "      <td>-0.800000</td>\n",
              "    </tr>\n",
              "    <tr>\n",
              "      <th>3</th>\n",
              "      <td>6/22/22</td>\n",
              "      <td>51.0</td>\n",
              "      <td>51.0</td>\n",
              "      <td>50.0</td>\n",
              "      <td>50.50</td>\n",
              "      <td>-0.50</td>\n",
              "      <td>0</td>\n",
              "      <td>0.000</td>\n",
              "      <td>0.647</td>\n",
              "      <td>0.353</td>\n",
              "      <td>0.9729</td>\n",
              "      <td>0.491667</td>\n",
              "      <td>0.166667</td>\n",
              "    </tr>\n",
              "    <tr>\n",
              "      <th>4</th>\n",
              "      <td>6/22/22</td>\n",
              "      <td>51.0</td>\n",
              "      <td>51.0</td>\n",
              "      <td>50.0</td>\n",
              "      <td>50.50</td>\n",
              "      <td>-0.50</td>\n",
              "      <td>0</td>\n",
              "      <td>0.000</td>\n",
              "      <td>1.000</td>\n",
              "      <td>0.000</td>\n",
              "      <td>0.0000</td>\n",
              "      <td>0.000000</td>\n",
              "      <td>0.000000</td>\n",
              "    </tr>\n",
              "    <tr>\n",
              "      <th>...</th>\n",
              "      <td>...</td>\n",
              "      <td>...</td>\n",
              "      <td>...</td>\n",
              "      <td>...</td>\n",
              "      <td>...</td>\n",
              "      <td>...</td>\n",
              "      <td>...</td>\n",
              "      <td>...</td>\n",
              "      <td>...</td>\n",
              "      <td>...</td>\n",
              "      <td>...</td>\n",
              "      <td>...</td>\n",
              "      <td>...</td>\n",
              "    </tr>\n",
              "    <tr>\n",
              "      <th>164</th>\n",
              "      <td>12/28/21</td>\n",
              "      <td>105.0</td>\n",
              "      <td>105.0</td>\n",
              "      <td>96.5</td>\n",
              "      <td>100.00</td>\n",
              "      <td>-5.00</td>\n",
              "      <td>0</td>\n",
              "      <td>0.000</td>\n",
              "      <td>0.651</td>\n",
              "      <td>0.349</td>\n",
              "      <td>0.8955</td>\n",
              "      <td>0.475565</td>\n",
              "      <td>0.195119</td>\n",
              "    </tr>\n",
              "    <tr>\n",
              "      <th>165</th>\n",
              "      <td>12/27/21</td>\n",
              "      <td>95.0</td>\n",
              "      <td>112.0</td>\n",
              "      <td>95.0</td>\n",
              "      <td>103.75</td>\n",
              "      <td>8.75</td>\n",
              "      <td>1</td>\n",
              "      <td>0.000</td>\n",
              "      <td>1.000</td>\n",
              "      <td>0.000</td>\n",
              "      <td>0.0000</td>\n",
              "      <td>0.000000</td>\n",
              "      <td>0.000000</td>\n",
              "    </tr>\n",
              "    <tr>\n",
              "      <th>166</th>\n",
              "      <td>12/27/21</td>\n",
              "      <td>95.0</td>\n",
              "      <td>112.0</td>\n",
              "      <td>95.0</td>\n",
              "      <td>103.75</td>\n",
              "      <td>8.75</td>\n",
              "      <td>1</td>\n",
              "      <td>0.000</td>\n",
              "      <td>0.670</td>\n",
              "      <td>0.330</td>\n",
              "      <td>0.9226</td>\n",
              "      <td>0.585714</td>\n",
              "      <td>0.000000</td>\n",
              "    </tr>\n",
              "    <tr>\n",
              "      <th>167</th>\n",
              "      <td>12/24/21</td>\n",
              "      <td>91.0</td>\n",
              "      <td>92.6</td>\n",
              "      <td>89.0</td>\n",
              "      <td>90.30</td>\n",
              "      <td>-0.70</td>\n",
              "      <td>0</td>\n",
              "      <td>0.000</td>\n",
              "      <td>1.000</td>\n",
              "      <td>0.000</td>\n",
              "      <td>0.0000</td>\n",
              "      <td>0.633333</td>\n",
              "      <td>0.433333</td>\n",
              "    </tr>\n",
              "    <tr>\n",
              "      <th>168</th>\n",
              "      <td>12/23/21</td>\n",
              "      <td>92.8</td>\n",
              "      <td>95.0</td>\n",
              "      <td>90.0</td>\n",
              "      <td>91.60</td>\n",
              "      <td>-1.20</td>\n",
              "      <td>0</td>\n",
              "      <td>0.000</td>\n",
              "      <td>0.541</td>\n",
              "      <td>0.459</td>\n",
              "      <td>0.5267</td>\n",
              "      <td>1.000000</td>\n",
              "      <td>0.400000</td>\n",
              "    </tr>\n",
              "  </tbody>\n",
              "</table>\n",
              "<p>169 rows × 13 columns</p>\n",
              "</div>\n",
              "      <button class=\"colab-df-convert\" onclick=\"convertToInteractive('df-d623899a-7346-44c8-adc1-5f3f0ffe921c')\"\n",
              "              title=\"Convert this dataframe to an interactive table.\"\n",
              "              style=\"display:none;\">\n",
              "        \n",
              "  <svg xmlns=\"http://www.w3.org/2000/svg\" height=\"24px\"viewBox=\"0 0 24 24\"\n",
              "       width=\"24px\">\n",
              "    <path d=\"M0 0h24v24H0V0z\" fill=\"none\"/>\n",
              "    <path d=\"M18.56 5.44l.94 2.06.94-2.06 2.06-.94-2.06-.94-.94-2.06-.94 2.06-2.06.94zm-11 1L8.5 8.5l.94-2.06 2.06-.94-2.06-.94L8.5 2.5l-.94 2.06-2.06.94zm10 10l.94 2.06.94-2.06 2.06-.94-2.06-.94-.94-2.06-.94 2.06-2.06.94z\"/><path d=\"M17.41 7.96l-1.37-1.37c-.4-.4-.92-.59-1.43-.59-.52 0-1.04.2-1.43.59L10.3 9.45l-7.72 7.72c-.78.78-.78 2.05 0 2.83L4 21.41c.39.39.9.59 1.41.59.51 0 1.02-.2 1.41-.59l7.78-7.78 2.81-2.81c.8-.78.8-2.07 0-2.86zM5.41 20L4 18.59l7.72-7.72 1.47 1.35L5.41 20z\"/>\n",
              "  </svg>\n",
              "      </button>\n",
              "      \n",
              "  <style>\n",
              "    .colab-df-container {\n",
              "      display:flex;\n",
              "      flex-wrap:wrap;\n",
              "      gap: 12px;\n",
              "    }\n",
              "\n",
              "    .colab-df-convert {\n",
              "      background-color: #E8F0FE;\n",
              "      border: none;\n",
              "      border-radius: 50%;\n",
              "      cursor: pointer;\n",
              "      display: none;\n",
              "      fill: #1967D2;\n",
              "      height: 32px;\n",
              "      padding: 0 0 0 0;\n",
              "      width: 32px;\n",
              "    }\n",
              "\n",
              "    .colab-df-convert:hover {\n",
              "      background-color: #E2EBFA;\n",
              "      box-shadow: 0px 1px 2px rgba(60, 64, 67, 0.3), 0px 1px 3px 1px rgba(60, 64, 67, 0.15);\n",
              "      fill: #174EA6;\n",
              "    }\n",
              "\n",
              "    [theme=dark] .colab-df-convert {\n",
              "      background-color: #3B4455;\n",
              "      fill: #D2E3FC;\n",
              "    }\n",
              "\n",
              "    [theme=dark] .colab-df-convert:hover {\n",
              "      background-color: #434B5C;\n",
              "      box-shadow: 0px 1px 3px 1px rgba(0, 0, 0, 0.15);\n",
              "      filter: drop-shadow(0px 1px 2px rgba(0, 0, 0, 0.3));\n",
              "      fill: #FFFFFF;\n",
              "    }\n",
              "  </style>\n",
              "\n",
              "      <script>\n",
              "        const buttonEl =\n",
              "          document.querySelector('#df-d623899a-7346-44c8-adc1-5f3f0ffe921c button.colab-df-convert');\n",
              "        buttonEl.style.display =\n",
              "          google.colab.kernel.accessAllowed ? 'block' : 'none';\n",
              "\n",
              "        async function convertToInteractive(key) {\n",
              "          const element = document.querySelector('#df-d623899a-7346-44c8-adc1-5f3f0ffe921c');\n",
              "          const dataTable =\n",
              "            await google.colab.kernel.invokeFunction('convertToInteractive',\n",
              "                                                     [key], {});\n",
              "          if (!dataTable) return;\n",
              "\n",
              "          const docLinkHtml = 'Like what you see? Visit the ' +\n",
              "            '<a target=\"_blank\" href=https://colab.research.google.com/notebooks/data_table.ipynb>data table notebook</a>'\n",
              "            + ' to learn more about interactive tables.';\n",
              "          element.innerHTML = '';\n",
              "          dataTable['output_type'] = 'display_data';\n",
              "          await google.colab.output.renderOutput(dataTable, element);\n",
              "          const docLink = document.createElement('div');\n",
              "          docLink.innerHTML = docLinkHtml;\n",
              "          element.appendChild(docLink);\n",
              "        }\n",
              "      </script>\n",
              "    </div>\n",
              "  </div>\n",
              "  "
            ]
          },
          "metadata": {},
          "execution_count": 5
        }
      ]
    },
    {
      "cell_type": "code",
      "source": [
        "df2.drop(\"Trade_Date\",axis=1,inplace=True)\n",
        "df2"
      ],
      "metadata": {
        "colab": {
          "base_uri": "https://localhost:8080/",
          "height": 424
        },
        "id": "d_hsMAZR_8Cg",
        "outputId": "935510b7-12e7-4f3a-8c1e-4ba9689e6a15"
      },
      "execution_count": null,
      "outputs": [
        {
          "output_type": "execute_result",
          "data": {
            "text/plain": [
              "     Open   High    Low   Close  Change  Lable  Negative  Neutral  Positive  \\\n",
              "0     50.5   52.1  50.5   51.00    0.50      1     0.000    0.795     0.205   \n",
              "1     53.6   53.6  51.2   53.80    0.20      1     0.194    0.806     0.000   \n",
              "2     53.6   53.6  51.2   53.80    0.20      1     0.304    0.696     0.000   \n",
              "3     51.0   51.0  50.0   50.50   -0.50      0     0.000    0.647     0.353   \n",
              "4     51.0   51.0  50.0   50.50   -0.50      0     0.000    1.000     0.000   \n",
              "..     ...    ...   ...     ...     ...    ...       ...      ...       ...   \n",
              "164  105.0  105.0  96.5  100.00   -5.00      0     0.000    0.651     0.349   \n",
              "165   95.0  112.0  95.0  103.75    8.75      1     0.000    1.000     0.000   \n",
              "166   95.0  112.0  95.0  103.75    8.75      1     0.000    0.670     0.330   \n",
              "167   91.0   92.6  89.0   90.30   -0.70      0     0.000    1.000     0.000   \n",
              "168   92.8   95.0  90.0   91.60   -1.20      0     0.000    0.541     0.459   \n",
              "\n",
              "     Compound  Subjectivity  Polarity  \n",
              "0      0.2023      0.500000  0.500000  \n",
              "1     -0.8555      0.363333 -0.107500  \n",
              "2     -0.8625      0.800000 -0.800000  \n",
              "3      0.9729      0.491667  0.166667  \n",
              "4      0.0000      0.000000  0.000000  \n",
              "..        ...           ...       ...  \n",
              "164    0.8955      0.475565  0.195119  \n",
              "165    0.0000      0.000000  0.000000  \n",
              "166    0.9226      0.585714  0.000000  \n",
              "167    0.0000      0.633333  0.433333  \n",
              "168    0.5267      1.000000  0.400000  \n",
              "\n",
              "[169 rows x 12 columns]"
            ],
            "text/html": [
              "\n",
              "  <div id=\"df-5090e367-4b2a-461c-877d-2ff0cc4ea7bc\">\n",
              "    <div class=\"colab-df-container\">\n",
              "      <div>\n",
              "<style scoped>\n",
              "    .dataframe tbody tr th:only-of-type {\n",
              "        vertical-align: middle;\n",
              "    }\n",
              "\n",
              "    .dataframe tbody tr th {\n",
              "        vertical-align: top;\n",
              "    }\n",
              "\n",
              "    .dataframe thead th {\n",
              "        text-align: right;\n",
              "    }\n",
              "</style>\n",
              "<table border=\"1\" class=\"dataframe\">\n",
              "  <thead>\n",
              "    <tr style=\"text-align: right;\">\n",
              "      <th></th>\n",
              "      <th>Open</th>\n",
              "      <th>High</th>\n",
              "      <th>Low</th>\n",
              "      <th>Close</th>\n",
              "      <th>Change</th>\n",
              "      <th>Lable</th>\n",
              "      <th>Negative</th>\n",
              "      <th>Neutral</th>\n",
              "      <th>Positive</th>\n",
              "      <th>Compound</th>\n",
              "      <th>Subjectivity</th>\n",
              "      <th>Polarity</th>\n",
              "    </tr>\n",
              "  </thead>\n",
              "  <tbody>\n",
              "    <tr>\n",
              "      <th>0</th>\n",
              "      <td>50.5</td>\n",
              "      <td>52.1</td>\n",
              "      <td>50.5</td>\n",
              "      <td>51.00</td>\n",
              "      <td>0.50</td>\n",
              "      <td>1</td>\n",
              "      <td>0.000</td>\n",
              "      <td>0.795</td>\n",
              "      <td>0.205</td>\n",
              "      <td>0.2023</td>\n",
              "      <td>0.500000</td>\n",
              "      <td>0.500000</td>\n",
              "    </tr>\n",
              "    <tr>\n",
              "      <th>1</th>\n",
              "      <td>53.6</td>\n",
              "      <td>53.6</td>\n",
              "      <td>51.2</td>\n",
              "      <td>53.80</td>\n",
              "      <td>0.20</td>\n",
              "      <td>1</td>\n",
              "      <td>0.194</td>\n",
              "      <td>0.806</td>\n",
              "      <td>0.000</td>\n",
              "      <td>-0.8555</td>\n",
              "      <td>0.363333</td>\n",
              "      <td>-0.107500</td>\n",
              "    </tr>\n",
              "    <tr>\n",
              "      <th>2</th>\n",
              "      <td>53.6</td>\n",
              "      <td>53.6</td>\n",
              "      <td>51.2</td>\n",
              "      <td>53.80</td>\n",
              "      <td>0.20</td>\n",
              "      <td>1</td>\n",
              "      <td>0.304</td>\n",
              "      <td>0.696</td>\n",
              "      <td>0.000</td>\n",
              "      <td>-0.8625</td>\n",
              "      <td>0.800000</td>\n",
              "      <td>-0.800000</td>\n",
              "    </tr>\n",
              "    <tr>\n",
              "      <th>3</th>\n",
              "      <td>51.0</td>\n",
              "      <td>51.0</td>\n",
              "      <td>50.0</td>\n",
              "      <td>50.50</td>\n",
              "      <td>-0.50</td>\n",
              "      <td>0</td>\n",
              "      <td>0.000</td>\n",
              "      <td>0.647</td>\n",
              "      <td>0.353</td>\n",
              "      <td>0.9729</td>\n",
              "      <td>0.491667</td>\n",
              "      <td>0.166667</td>\n",
              "    </tr>\n",
              "    <tr>\n",
              "      <th>4</th>\n",
              "      <td>51.0</td>\n",
              "      <td>51.0</td>\n",
              "      <td>50.0</td>\n",
              "      <td>50.50</td>\n",
              "      <td>-0.50</td>\n",
              "      <td>0</td>\n",
              "      <td>0.000</td>\n",
              "      <td>1.000</td>\n",
              "      <td>0.000</td>\n",
              "      <td>0.0000</td>\n",
              "      <td>0.000000</td>\n",
              "      <td>0.000000</td>\n",
              "    </tr>\n",
              "    <tr>\n",
              "      <th>...</th>\n",
              "      <td>...</td>\n",
              "      <td>...</td>\n",
              "      <td>...</td>\n",
              "      <td>...</td>\n",
              "      <td>...</td>\n",
              "      <td>...</td>\n",
              "      <td>...</td>\n",
              "      <td>...</td>\n",
              "      <td>...</td>\n",
              "      <td>...</td>\n",
              "      <td>...</td>\n",
              "      <td>...</td>\n",
              "    </tr>\n",
              "    <tr>\n",
              "      <th>164</th>\n",
              "      <td>105.0</td>\n",
              "      <td>105.0</td>\n",
              "      <td>96.5</td>\n",
              "      <td>100.00</td>\n",
              "      <td>-5.00</td>\n",
              "      <td>0</td>\n",
              "      <td>0.000</td>\n",
              "      <td>0.651</td>\n",
              "      <td>0.349</td>\n",
              "      <td>0.8955</td>\n",
              "      <td>0.475565</td>\n",
              "      <td>0.195119</td>\n",
              "    </tr>\n",
              "    <tr>\n",
              "      <th>165</th>\n",
              "      <td>95.0</td>\n",
              "      <td>112.0</td>\n",
              "      <td>95.0</td>\n",
              "      <td>103.75</td>\n",
              "      <td>8.75</td>\n",
              "      <td>1</td>\n",
              "      <td>0.000</td>\n",
              "      <td>1.000</td>\n",
              "      <td>0.000</td>\n",
              "      <td>0.0000</td>\n",
              "      <td>0.000000</td>\n",
              "      <td>0.000000</td>\n",
              "    </tr>\n",
              "    <tr>\n",
              "      <th>166</th>\n",
              "      <td>95.0</td>\n",
              "      <td>112.0</td>\n",
              "      <td>95.0</td>\n",
              "      <td>103.75</td>\n",
              "      <td>8.75</td>\n",
              "      <td>1</td>\n",
              "      <td>0.000</td>\n",
              "      <td>0.670</td>\n",
              "      <td>0.330</td>\n",
              "      <td>0.9226</td>\n",
              "      <td>0.585714</td>\n",
              "      <td>0.000000</td>\n",
              "    </tr>\n",
              "    <tr>\n",
              "      <th>167</th>\n",
              "      <td>91.0</td>\n",
              "      <td>92.6</td>\n",
              "      <td>89.0</td>\n",
              "      <td>90.30</td>\n",
              "      <td>-0.70</td>\n",
              "      <td>0</td>\n",
              "      <td>0.000</td>\n",
              "      <td>1.000</td>\n",
              "      <td>0.000</td>\n",
              "      <td>0.0000</td>\n",
              "      <td>0.633333</td>\n",
              "      <td>0.433333</td>\n",
              "    </tr>\n",
              "    <tr>\n",
              "      <th>168</th>\n",
              "      <td>92.8</td>\n",
              "      <td>95.0</td>\n",
              "      <td>90.0</td>\n",
              "      <td>91.60</td>\n",
              "      <td>-1.20</td>\n",
              "      <td>0</td>\n",
              "      <td>0.000</td>\n",
              "      <td>0.541</td>\n",
              "      <td>0.459</td>\n",
              "      <td>0.5267</td>\n",
              "      <td>1.000000</td>\n",
              "      <td>0.400000</td>\n",
              "    </tr>\n",
              "  </tbody>\n",
              "</table>\n",
              "<p>169 rows × 12 columns</p>\n",
              "</div>\n",
              "      <button class=\"colab-df-convert\" onclick=\"convertToInteractive('df-5090e367-4b2a-461c-877d-2ff0cc4ea7bc')\"\n",
              "              title=\"Convert this dataframe to an interactive table.\"\n",
              "              style=\"display:none;\">\n",
              "        \n",
              "  <svg xmlns=\"http://www.w3.org/2000/svg\" height=\"24px\"viewBox=\"0 0 24 24\"\n",
              "       width=\"24px\">\n",
              "    <path d=\"M0 0h24v24H0V0z\" fill=\"none\"/>\n",
              "    <path d=\"M18.56 5.44l.94 2.06.94-2.06 2.06-.94-2.06-.94-.94-2.06-.94 2.06-2.06.94zm-11 1L8.5 8.5l.94-2.06 2.06-.94-2.06-.94L8.5 2.5l-.94 2.06-2.06.94zm10 10l.94 2.06.94-2.06 2.06-.94-2.06-.94-.94-2.06-.94 2.06-2.06.94z\"/><path d=\"M17.41 7.96l-1.37-1.37c-.4-.4-.92-.59-1.43-.59-.52 0-1.04.2-1.43.59L10.3 9.45l-7.72 7.72c-.78.78-.78 2.05 0 2.83L4 21.41c.39.39.9.59 1.41.59.51 0 1.02-.2 1.41-.59l7.78-7.78 2.81-2.81c.8-.78.8-2.07 0-2.86zM5.41 20L4 18.59l7.72-7.72 1.47 1.35L5.41 20z\"/>\n",
              "  </svg>\n",
              "      </button>\n",
              "      \n",
              "  <style>\n",
              "    .colab-df-container {\n",
              "      display:flex;\n",
              "      flex-wrap:wrap;\n",
              "      gap: 12px;\n",
              "    }\n",
              "\n",
              "    .colab-df-convert {\n",
              "      background-color: #E8F0FE;\n",
              "      border: none;\n",
              "      border-radius: 50%;\n",
              "      cursor: pointer;\n",
              "      display: none;\n",
              "      fill: #1967D2;\n",
              "      height: 32px;\n",
              "      padding: 0 0 0 0;\n",
              "      width: 32px;\n",
              "    }\n",
              "\n",
              "    .colab-df-convert:hover {\n",
              "      background-color: #E2EBFA;\n",
              "      box-shadow: 0px 1px 2px rgba(60, 64, 67, 0.3), 0px 1px 3px 1px rgba(60, 64, 67, 0.15);\n",
              "      fill: #174EA6;\n",
              "    }\n",
              "\n",
              "    [theme=dark] .colab-df-convert {\n",
              "      background-color: #3B4455;\n",
              "      fill: #D2E3FC;\n",
              "    }\n",
              "\n",
              "    [theme=dark] .colab-df-convert:hover {\n",
              "      background-color: #434B5C;\n",
              "      box-shadow: 0px 1px 3px 1px rgba(0, 0, 0, 0.15);\n",
              "      filter: drop-shadow(0px 1px 2px rgba(0, 0, 0, 0.3));\n",
              "      fill: #FFFFFF;\n",
              "    }\n",
              "  </style>\n",
              "\n",
              "      <script>\n",
              "        const buttonEl =\n",
              "          document.querySelector('#df-5090e367-4b2a-461c-877d-2ff0cc4ea7bc button.colab-df-convert');\n",
              "        buttonEl.style.display =\n",
              "          google.colab.kernel.accessAllowed ? 'block' : 'none';\n",
              "\n",
              "        async function convertToInteractive(key) {\n",
              "          const element = document.querySelector('#df-5090e367-4b2a-461c-877d-2ff0cc4ea7bc');\n",
              "          const dataTable =\n",
              "            await google.colab.kernel.invokeFunction('convertToInteractive',\n",
              "                                                     [key], {});\n",
              "          if (!dataTable) return;\n",
              "\n",
              "          const docLinkHtml = 'Like what you see? Visit the ' +\n",
              "            '<a target=\"_blank\" href=https://colab.research.google.com/notebooks/data_table.ipynb>data table notebook</a>'\n",
              "            + ' to learn more about interactive tables.';\n",
              "          element.innerHTML = '';\n",
              "          dataTable['output_type'] = 'display_data';\n",
              "          await google.colab.output.renderOutput(dataTable, element);\n",
              "          const docLink = document.createElement('div');\n",
              "          docLink.innerHTML = docLinkHtml;\n",
              "          element.appendChild(docLink);\n",
              "        }\n",
              "      </script>\n",
              "    </div>\n",
              "  </div>\n",
              "  "
            ]
          },
          "metadata": {},
          "execution_count": 6
        }
      ]
    },
    {
      "cell_type": "markdown",
      "source": [
        "**Discriminant Analysis**"
      ],
      "metadata": {
        "id": "EsrGoucwBBz2"
      }
    },
    {
      "cell_type": "code",
      "source": [
        "X=df2\n",
        "X=np.array(X.drop([\"Lable\"],1))\n",
        "y=np.array(df2[\"Lable\"])\n",
        "x_train,x_test,y_train,y_test=train_test_split(X,y,test_size=0.2,random_state=0)"
      ],
      "metadata": {
        "colab": {
          "base_uri": "https://localhost:8080/"
        },
        "id": "h7U7_HNBXCWv",
        "outputId": "86034240-235b-44cf-9ba3-29cb23e688d3"
      },
      "execution_count": null,
      "outputs": [
        {
          "output_type": "stream",
          "name": "stderr",
          "text": [
            "<ipython-input-7-f27bc95ff637>:2: FutureWarning: In a future version of pandas all arguments of DataFrame.drop except for the argument 'labels' will be keyword-only\n",
            "  X=np.array(X.drop([\"Lable\"],1))\n"
          ]
        }
      ]
    },
    {
      "cell_type": "code",
      "source": [
        "model=LinearDiscriminantAnalysis().fit(x_train,y_train)\n",
        "model"
      ],
      "metadata": {
        "colab": {
          "base_uri": "https://localhost:8080/"
        },
        "id": "QyY-eJjv6aBf",
        "outputId": "4f90e502-fc64-4aa5-e464-24b5ddda009b"
      },
      "execution_count": null,
      "outputs": [
        {
          "output_type": "execute_result",
          "data": {
            "text/plain": [
              "LinearDiscriminantAnalysis()"
            ]
          },
          "metadata": {},
          "execution_count": 8
        }
      ]
    },
    {
      "cell_type": "code",
      "source": [
        "predictions=model.predict(x_test)\n",
        "predictions"
      ],
      "metadata": {
        "colab": {
          "base_uri": "https://localhost:8080/"
        },
        "id": "TcwKZsiv6zHO",
        "outputId": "597c6ae5-92a9-44a9-aba1-834ae1e0c917"
      },
      "execution_count": null,
      "outputs": [
        {
          "output_type": "execute_result",
          "data": {
            "text/plain": [
              "array([1, 1, 0, 0, 0, 0, 1, 1, 1, 0, 1, 0, 0, 0, 0, 0, 0, 0, 0, 0, 1, 1,\n",
              "       0, 1, 1, 0, 1, 1, 1, 1, 1, 1, 0, 0])"
            ]
          },
          "metadata": {},
          "execution_count": 9
        }
      ]
    },
    {
      "cell_type": "code",
      "source": [
        "y_test"
      ],
      "metadata": {
        "colab": {
          "base_uri": "https://localhost:8080/"
        },
        "id": "o9y6LYqF7MXp",
        "outputId": "da414d2a-8330-4162-9ec8-2a480e784604"
      },
      "execution_count": null,
      "outputs": [
        {
          "output_type": "execute_result",
          "data": {
            "text/plain": [
              "array([1, 1, 0, 0, 0, 0, 0, 0, 1, 0, 1, 0, 0, 0, 0, 0, 0, 0, 0, 0, 1, 1,\n",
              "       0, 0, 1, 0, 1, 0, 1, 1, 0, 1, 0, 0])"
            ]
          },
          "metadata": {},
          "execution_count": 10
        }
      ]
    },
    {
      "cell_type": "code",
      "source": [
        "print(classification_report(y_test,predictions))"
      ],
      "metadata": {
        "colab": {
          "base_uri": "https://localhost:8080/"
        },
        "id": "yBDBalw7ASb1",
        "outputId": "665c9a9c-5242-4a8e-8fbc-211fbce824a7"
      },
      "execution_count": null,
      "outputs": [
        {
          "output_type": "stream",
          "name": "stdout",
          "text": [
            "              precision    recall  f1-score   support\n",
            "\n",
            "           0       1.00      0.78      0.88        23\n",
            "           1       0.69      1.00      0.81        11\n",
            "\n",
            "    accuracy                           0.85        34\n",
            "   macro avg       0.84      0.89      0.85        34\n",
            "weighted avg       0.90      0.85      0.86        34\n",
            "\n"
          ]
        }
      ]
    },
    {
      "cell_type": "code",
      "source": [
        "print(confusion_matrix(y_test,predictions))"
      ],
      "metadata": {
        "colab": {
          "base_uri": "https://localhost:8080/"
        },
        "id": "zlVicfneqCjZ",
        "outputId": "60779a96-1b20-4c26-a1a5-6c9be25f5ee5"
      },
      "execution_count": null,
      "outputs": [
        {
          "output_type": "stream",
          "name": "stdout",
          "text": [
            "[[18  5]\n",
            " [ 0 11]]\n"
          ]
        }
      ]
    },
    {
      "cell_type": "code",
      "source": [
        "print(accuracy_score(y_test,predictions))"
      ],
      "metadata": {
        "colab": {
          "base_uri": "https://localhost:8080/"
        },
        "id": "NNoCS4ioqI73",
        "outputId": "bc2feda2-fe07-48b1-e71a-c4dd4720574f"
      },
      "execution_count": null,
      "outputs": [
        {
          "output_type": "stream",
          "name": "stdout",
          "text": [
            "0.8529411764705882\n"
          ]
        }
      ]
    },
    {
      "cell_type": "code",
      "source": [
        "model.intercept_"
      ],
      "metadata": {
        "colab": {
          "base_uri": "https://localhost:8080/"
        },
        "id": "RAAIDTtxA9gM",
        "outputId": "1500d861-1fbe-4781-9683-f5aed3e7f272"
      },
      "execution_count": null,
      "outputs": [
        {
          "output_type": "execute_result",
          "data": {
            "text/plain": [
              "array([-571.34900844])"
            ]
          },
          "metadata": {},
          "execution_count": 14
        }
      ]
    },
    {
      "cell_type": "code",
      "source": [
        "model.score(x_train,y_train)*100"
      ],
      "metadata": {
        "colab": {
          "base_uri": "https://localhost:8080/"
        },
        "id": "dyY6P1tPBkvW",
        "outputId": "f6f071f7-40ee-4105-8f50-b4dc1ec532d6"
      },
      "execution_count": null,
      "outputs": [
        {
          "output_type": "execute_result",
          "data": {
            "text/plain": [
              "94.07407407407408"
            ]
          },
          "metadata": {},
          "execution_count": 15
        }
      ]
    },
    {
      "cell_type": "code",
      "source": [
        "mse=mean_squared_error(predictions,y_test)\n",
        "mse"
      ],
      "metadata": {
        "colab": {
          "base_uri": "https://localhost:8080/"
        },
        "id": "eWH8s2yXByV6",
        "outputId": "0c27352c-5fe4-4a44-a9cf-48cae4f8fca4"
      },
      "execution_count": null,
      "outputs": [
        {
          "output_type": "execute_result",
          "data": {
            "text/plain": [
              "0.14705882352941177"
            ]
          },
          "metadata": {},
          "execution_count": 16
        }
      ]
    },
    {
      "cell_type": "code",
      "source": [
        "rms=np.sqrt(mse)\n",
        "rms"
      ],
      "metadata": {
        "colab": {
          "base_uri": "https://localhost:8080/"
        },
        "id": "Xt3PG6CUCWjq",
        "outputId": "13ed14c6-9a4f-4ade-d046-9a3f224c37f1"
      },
      "execution_count": null,
      "outputs": [
        {
          "output_type": "execute_result",
          "data": {
            "text/plain": [
              "0.3834824944236852"
            ]
          },
          "metadata": {},
          "execution_count": 17
        }
      ]
    },
    {
      "cell_type": "markdown",
      "source": [
        "**Random Forest**"
      ],
      "metadata": {
        "id": "PFdIqpcZpixz"
      }
    },
    {
      "cell_type": "code",
      "source": [
        "X=df2\n",
        "X=np.array(X.drop([\"Lable\"],1))\n",
        "y=np.array(df2[\"Lable\"])\n",
        "x_train,x_test,y_train,y_test=train_test_split(X,y,test_size=0.2,random_state=0)"
      ],
      "metadata": {
        "colab": {
          "base_uri": "https://localhost:8080/"
        },
        "id": "_93HM4chlfMW",
        "outputId": "42b6b894-2f4d-48d8-a84e-423fe435a9d9"
      },
      "execution_count": null,
      "outputs": [
        {
          "output_type": "stream",
          "name": "stderr",
          "text": [
            "<ipython-input-18-f27bc95ff637>:2: FutureWarning: In a future version of pandas all arguments of DataFrame.drop except for the argument 'labels' will be keyword-only\n",
            "  X=np.array(X.drop([\"Lable\"],1))\n"
          ]
        }
      ]
    },
    {
      "cell_type": "code",
      "source": [
        "model=RandomForestClassifier().fit(x_train,y_train)\n",
        "model"
      ],
      "metadata": {
        "colab": {
          "base_uri": "https://localhost:8080/"
        },
        "id": "tkK91z_9mDt5",
        "outputId": "e6132677-ed3f-452f-97ca-57f05caa7fce"
      },
      "execution_count": null,
      "outputs": [
        {
          "output_type": "execute_result",
          "data": {
            "text/plain": [
              "RandomForestClassifier()"
            ]
          },
          "metadata": {},
          "execution_count": 40
        }
      ]
    },
    {
      "cell_type": "code",
      "source": [
        "predictions=model.predict(x_test)\n",
        "predictions"
      ],
      "metadata": {
        "colab": {
          "base_uri": "https://localhost:8080/"
        },
        "id": "0AbxcstrmnMD",
        "outputId": "34927ca0-3b90-4ee3-9c02-5a572423612c"
      },
      "execution_count": null,
      "outputs": [
        {
          "output_type": "execute_result",
          "data": {
            "text/plain": [
              "array([1, 1, 0, 0, 0, 0, 0, 0, 1, 0, 1, 0, 0, 0, 0, 0, 0, 0, 0, 0, 1, 1,\n",
              "       0, 0, 1, 0, 1, 0, 1, 1, 0, 1, 0, 1])"
            ]
          },
          "metadata": {},
          "execution_count": 41
        }
      ]
    },
    {
      "cell_type": "code",
      "source": [
        "y_test"
      ],
      "metadata": {
        "colab": {
          "base_uri": "https://localhost:8080/"
        },
        "id": "PeCGobzFmw-w",
        "outputId": "d85fc3a7-8733-4891-b511-570c470f63e9"
      },
      "execution_count": null,
      "outputs": [
        {
          "output_type": "execute_result",
          "data": {
            "text/plain": [
              "array([1, 1, 0, 0, 0, 0, 0, 0, 1, 0, 1, 0, 0, 0, 0, 0, 0, 0, 0, 0, 1, 1,\n",
              "       0, 0, 1, 0, 1, 0, 1, 1, 0, 1, 0, 0])"
            ]
          },
          "metadata": {},
          "execution_count": 42
        }
      ]
    },
    {
      "cell_type": "code",
      "source": [
        "print(classification_report(y_test,predictions))"
      ],
      "metadata": {
        "colab": {
          "base_uri": "https://localhost:8080/"
        },
        "id": "novvtOjsm4xI",
        "outputId": "3da9d048-c878-4248-a4fe-e3473d3fc401"
      },
      "execution_count": null,
      "outputs": [
        {
          "output_type": "stream",
          "name": "stdout",
          "text": [
            "              precision    recall  f1-score   support\n",
            "\n",
            "           0       1.00      0.96      0.98        23\n",
            "           1       0.92      1.00      0.96        11\n",
            "\n",
            "    accuracy                           0.97        34\n",
            "   macro avg       0.96      0.98      0.97        34\n",
            "weighted avg       0.97      0.97      0.97        34\n",
            "\n"
          ]
        }
      ]
    },
    {
      "cell_type": "code",
      "source": [
        "print(confusion_matrix(y_test,predictions))"
      ],
      "metadata": {
        "colab": {
          "base_uri": "https://localhost:8080/"
        },
        "id": "kUajDluHnXwX",
        "outputId": "09e80ff2-21c0-4168-b700-e6dcda5efefb"
      },
      "execution_count": null,
      "outputs": [
        {
          "output_type": "stream",
          "name": "stdout",
          "text": [
            "[[22  1]\n",
            " [ 0 11]]\n"
          ]
        }
      ]
    },
    {
      "cell_type": "code",
      "source": [
        "print(accuracy_score(y_test,predictions))"
      ],
      "metadata": {
        "colab": {
          "base_uri": "https://localhost:8080/"
        },
        "id": "vyXHJ57AoL8G",
        "outputId": "3cf771d6-e0e9-4665-8b4a-49e0e2aae471"
      },
      "execution_count": null,
      "outputs": [
        {
          "output_type": "stream",
          "name": "stdout",
          "text": [
            "0.9705882352941176\n"
          ]
        }
      ]
    },
    {
      "cell_type": "code",
      "source": [
        "model.score(x_train,y_train)*100"
      ],
      "metadata": {
        "colab": {
          "base_uri": "https://localhost:8080/"
        },
        "id": "AQTeRM2Opv93",
        "outputId": "96ad6a98-b670-49e8-cb02-44e724334ea4"
      },
      "execution_count": null,
      "outputs": [
        {
          "output_type": "execute_result",
          "data": {
            "text/plain": [
              "100.0"
            ]
          },
          "metadata": {},
          "execution_count": 25
        }
      ]
    },
    {
      "cell_type": "code",
      "source": [
        "mse=mean_squared_error(predictions,y_test)\n",
        "mse"
      ],
      "metadata": {
        "colab": {
          "base_uri": "https://localhost:8080/"
        },
        "id": "DX-6Jmnup4gs",
        "outputId": "23f018fe-19c3-4ced-dea8-72ebb2cb88ec"
      },
      "execution_count": null,
      "outputs": [
        {
          "output_type": "execute_result",
          "data": {
            "text/plain": [
              "0.029411764705882353"
            ]
          },
          "metadata": {},
          "execution_count": 26
        }
      ]
    },
    {
      "cell_type": "code",
      "source": [
        "rms=np.sqrt(mse)\n",
        "rms"
      ],
      "metadata": {
        "colab": {
          "base_uri": "https://localhost:8080/"
        },
        "id": "Nh1sORmap-mk",
        "outputId": "028aa806-975e-4ef8-a318-c3e050b81a4f"
      },
      "execution_count": null,
      "outputs": [
        {
          "output_type": "execute_result",
          "data": {
            "text/plain": [
              "0.17149858514250885"
            ]
          },
          "metadata": {},
          "execution_count": 27
        }
      ]
    },
    {
      "cell_type": "markdown",
      "source": [
        "**Linear Regression**"
      ],
      "metadata": {
        "id": "z2Z_oPxPqN0y"
      }
    },
    {
      "cell_type": "code",
      "source": [
        "X=df2\n",
        "X=np.array(X.drop([\"Lable\"],1))\n",
        "y=np.array(df2[\"Lable\"])\n",
        "x_train,x_test,y_train,y_test=train_test_split(X,y,test_size=0.2,random_state=0)"
      ],
      "metadata": {
        "colab": {
          "base_uri": "https://localhost:8080/"
        },
        "id": "WAffImgKqMub",
        "outputId": "f8bd9c7b-2103-44ca-f375-292bb3bc150f"
      },
      "execution_count": null,
      "outputs": [
        {
          "output_type": "stream",
          "name": "stderr",
          "text": [
            "<ipython-input-28-f27bc95ff637>:2: FutureWarning: In a future version of pandas all arguments of DataFrame.drop except for the argument 'labels' will be keyword-only\n",
            "  X=np.array(X.drop([\"Lable\"],1))\n"
          ]
        }
      ]
    },
    {
      "cell_type": "code",
      "source": [
        "model=LinearRegression().fit(x_train,y_train)\n",
        "model"
      ],
      "metadata": {
        "colab": {
          "base_uri": "https://localhost:8080/"
        },
        "id": "FB__VrW1qWDj",
        "outputId": "f62c0d93-b8b5-46b4-b334-62a8f11f7330"
      },
      "execution_count": null,
      "outputs": [
        {
          "output_type": "execute_result",
          "data": {
            "text/plain": [
              "LinearRegression()"
            ]
          },
          "metadata": {},
          "execution_count": 29
        }
      ]
    },
    {
      "cell_type": "code",
      "source": [
        "predictions=model.predict(x_test)\n",
        "predictions"
      ],
      "metadata": {
        "colab": {
          "base_uri": "https://localhost:8080/"
        },
        "id": "mbBGqC8vqshA",
        "outputId": "0c20c681-648d-4261-ed09-fd69e8787b57"
      },
      "execution_count": null,
      "outputs": [
        {
          "output_type": "execute_result",
          "data": {
            "text/plain": [
              "array([ 0.76309825,  0.57323838, -0.06458935,  0.12453266,  0.02715608,\n",
              "        0.28305048,  0.66211821,  0.61001661,  0.50498915, -0.09684327,\n",
              "        0.96290877,  0.07656608, -0.35493926,  0.05657339, -0.5431214 ,\n",
              "        0.45628123, -0.21109015,  0.15805048,  0.25721302, -0.17473315,\n",
              "        0.49685241,  0.64923543, -0.13522009,  0.54956828,  0.60043329,\n",
              "       -0.45236712,  0.5427048 ,  0.59096534,  1.66319221,  0.73411643,\n",
              "        0.61329009,  0.74536192, -0.01773077,  0.49569158])"
            ]
          },
          "metadata": {},
          "execution_count": 30
        }
      ]
    },
    {
      "cell_type": "code",
      "source": [
        "model.score(x_train,y_train)*100"
      ],
      "metadata": {
        "colab": {
          "base_uri": "https://localhost:8080/"
        },
        "id": "FLpznwU_rCYT",
        "outputId": "238e8898-6b8e-45fc-f1e1-3ce658d31feb"
      },
      "execution_count": null,
      "outputs": [
        {
          "output_type": "execute_result",
          "data": {
            "text/plain": [
              "51.02162154340297"
            ]
          },
          "metadata": {},
          "execution_count": 31
        }
      ]
    },
    {
      "cell_type": "code",
      "source": [
        "model.intercept_"
      ],
      "metadata": {
        "colab": {
          "base_uri": "https://localhost:8080/"
        },
        "id": "EHaH7MlKHWAV",
        "outputId": "7b118d40-d168-421e-e78e-a96d8a980ad2"
      },
      "execution_count": null,
      "outputs": [
        {
          "output_type": "execute_result",
          "data": {
            "text/plain": [
              "-65.83999639986897"
            ]
          },
          "metadata": {},
          "execution_count": 32
        }
      ]
    },
    {
      "cell_type": "code",
      "source": [
        "mse=mean_squared_error(predictions,y_test)\n",
        "mse"
      ],
      "metadata": {
        "colab": {
          "base_uri": "https://localhost:8080/"
        },
        "id": "iqyToKJYrPFE",
        "outputId": "631389a5-7e57-4911-a198-463005d3a422"
      },
      "execution_count": null,
      "outputs": [
        {
          "output_type": "execute_result",
          "data": {
            "text/plain": [
              "0.14782943472764468"
            ]
          },
          "metadata": {},
          "execution_count": 33
        }
      ]
    },
    {
      "cell_type": "code",
      "source": [
        "rms=np.sqrt(mse)\n",
        "rms"
      ],
      "metadata": {
        "colab": {
          "base_uri": "https://localhost:8080/"
        },
        "id": "Z0_Ftds8rSqk",
        "outputId": "e43e0897-5228-4017-8b8c-05a84679f999"
      },
      "execution_count": null,
      "outputs": [
        {
          "output_type": "execute_result",
          "data": {
            "text/plain": [
              "0.3844859356694919"
            ]
          },
          "metadata": {},
          "execution_count": 34
        }
      ]
    },
    {
      "cell_type": "markdown",
      "source": [
        "**Plots**"
      ],
      "metadata": {
        "id": "rNuDKq7j6TYz"
      }
    },
    {
      "cell_type": "code",
      "source": [
        "from google.colab import files\n",
        "data_to_load = files.upload()"
      ],
      "metadata": {
        "colab": {
          "base_uri": "https://localhost:8080/",
          "height": 74
        },
        "id": "B_3b3xImXoKY",
        "outputId": "c8de5e5f-42ed-4f4d-c00e-0cf8e52a7d44"
      },
      "execution_count": null,
      "outputs": [
        {
          "output_type": "display_data",
          "data": {
            "text/plain": [
              "<IPython.core.display.HTML object>"
            ],
            "text/html": [
              "\n",
              "     <input type=\"file\" id=\"files-db6b069b-03c8-4ee7-9425-5fccca5ce6a6\" name=\"files[]\" multiple disabled\n",
              "        style=\"border:none\" />\n",
              "     <output id=\"result-db6b069b-03c8-4ee7-9425-5fccca5ce6a6\">\n",
              "      Upload widget is only available when the cell has been executed in the\n",
              "      current browser session. Please rerun this cell to enable.\n",
              "      </output>\n",
              "      <script>// Copyright 2017 Google LLC\n",
              "//\n",
              "// Licensed under the Apache License, Version 2.0 (the \"License\");\n",
              "// you may not use this file except in compliance with the License.\n",
              "// You may obtain a copy of the License at\n",
              "//\n",
              "//      http://www.apache.org/licenses/LICENSE-2.0\n",
              "//\n",
              "// Unless required by applicable law or agreed to in writing, software\n",
              "// distributed under the License is distributed on an \"AS IS\" BASIS,\n",
              "// WITHOUT WARRANTIES OR CONDITIONS OF ANY KIND, either express or implied.\n",
              "// See the License for the specific language governing permissions and\n",
              "// limitations under the License.\n",
              "\n",
              "/**\n",
              " * @fileoverview Helpers for google.colab Python module.\n",
              " */\n",
              "(function(scope) {\n",
              "function span(text, styleAttributes = {}) {\n",
              "  const element = document.createElement('span');\n",
              "  element.textContent = text;\n",
              "  for (const key of Object.keys(styleAttributes)) {\n",
              "    element.style[key] = styleAttributes[key];\n",
              "  }\n",
              "  return element;\n",
              "}\n",
              "\n",
              "// Max number of bytes which will be uploaded at a time.\n",
              "const MAX_PAYLOAD_SIZE = 100 * 1024;\n",
              "\n",
              "function _uploadFiles(inputId, outputId) {\n",
              "  const steps = uploadFilesStep(inputId, outputId);\n",
              "  const outputElement = document.getElementById(outputId);\n",
              "  // Cache steps on the outputElement to make it available for the next call\n",
              "  // to uploadFilesContinue from Python.\n",
              "  outputElement.steps = steps;\n",
              "\n",
              "  return _uploadFilesContinue(outputId);\n",
              "}\n",
              "\n",
              "// This is roughly an async generator (not supported in the browser yet),\n",
              "// where there are multiple asynchronous steps and the Python side is going\n",
              "// to poll for completion of each step.\n",
              "// This uses a Promise to block the python side on completion of each step,\n",
              "// then passes the result of the previous step as the input to the next step.\n",
              "function _uploadFilesContinue(outputId) {\n",
              "  const outputElement = document.getElementById(outputId);\n",
              "  const steps = outputElement.steps;\n",
              "\n",
              "  const next = steps.next(outputElement.lastPromiseValue);\n",
              "  return Promise.resolve(next.value.promise).then((value) => {\n",
              "    // Cache the last promise value to make it available to the next\n",
              "    // step of the generator.\n",
              "    outputElement.lastPromiseValue = value;\n",
              "    return next.value.response;\n",
              "  });\n",
              "}\n",
              "\n",
              "/**\n",
              " * Generator function which is called between each async step of the upload\n",
              " * process.\n",
              " * @param {string} inputId Element ID of the input file picker element.\n",
              " * @param {string} outputId Element ID of the output display.\n",
              " * @return {!Iterable<!Object>} Iterable of next steps.\n",
              " */\n",
              "function* uploadFilesStep(inputId, outputId) {\n",
              "  const inputElement = document.getElementById(inputId);\n",
              "  inputElement.disabled = false;\n",
              "\n",
              "  const outputElement = document.getElementById(outputId);\n",
              "  outputElement.innerHTML = '';\n",
              "\n",
              "  const pickedPromise = new Promise((resolve) => {\n",
              "    inputElement.addEventListener('change', (e) => {\n",
              "      resolve(e.target.files);\n",
              "    });\n",
              "  });\n",
              "\n",
              "  const cancel = document.createElement('button');\n",
              "  inputElement.parentElement.appendChild(cancel);\n",
              "  cancel.textContent = 'Cancel upload';\n",
              "  const cancelPromise = new Promise((resolve) => {\n",
              "    cancel.onclick = () => {\n",
              "      resolve(null);\n",
              "    };\n",
              "  });\n",
              "\n",
              "  // Wait for the user to pick the files.\n",
              "  const files = yield {\n",
              "    promise: Promise.race([pickedPromise, cancelPromise]),\n",
              "    response: {\n",
              "      action: 'starting',\n",
              "    }\n",
              "  };\n",
              "\n",
              "  cancel.remove();\n",
              "\n",
              "  // Disable the input element since further picks are not allowed.\n",
              "  inputElement.disabled = true;\n",
              "\n",
              "  if (!files) {\n",
              "    return {\n",
              "      response: {\n",
              "        action: 'complete',\n",
              "      }\n",
              "    };\n",
              "  }\n",
              "\n",
              "  for (const file of files) {\n",
              "    const li = document.createElement('li');\n",
              "    li.append(span(file.name, {fontWeight: 'bold'}));\n",
              "    li.append(span(\n",
              "        `(${file.type || 'n/a'}) - ${file.size} bytes, ` +\n",
              "        `last modified: ${\n",
              "            file.lastModifiedDate ? file.lastModifiedDate.toLocaleDateString() :\n",
              "                                    'n/a'} - `));\n",
              "    const percent = span('0% done');\n",
              "    li.appendChild(percent);\n",
              "\n",
              "    outputElement.appendChild(li);\n",
              "\n",
              "    const fileDataPromise = new Promise((resolve) => {\n",
              "      const reader = new FileReader();\n",
              "      reader.onload = (e) => {\n",
              "        resolve(e.target.result);\n",
              "      };\n",
              "      reader.readAsArrayBuffer(file);\n",
              "    });\n",
              "    // Wait for the data to be ready.\n",
              "    let fileData = yield {\n",
              "      promise: fileDataPromise,\n",
              "      response: {\n",
              "        action: 'continue',\n",
              "      }\n",
              "    };\n",
              "\n",
              "    // Use a chunked sending to avoid message size limits. See b/62115660.\n",
              "    let position = 0;\n",
              "    do {\n",
              "      const length = Math.min(fileData.byteLength - position, MAX_PAYLOAD_SIZE);\n",
              "      const chunk = new Uint8Array(fileData, position, length);\n",
              "      position += length;\n",
              "\n",
              "      const base64 = btoa(String.fromCharCode.apply(null, chunk));\n",
              "      yield {\n",
              "        response: {\n",
              "          action: 'append',\n",
              "          file: file.name,\n",
              "          data: base64,\n",
              "        },\n",
              "      };\n",
              "\n",
              "      let percentDone = fileData.byteLength === 0 ?\n",
              "          100 :\n",
              "          Math.round((position / fileData.byteLength) * 100);\n",
              "      percent.textContent = `${percentDone}% done`;\n",
              "\n",
              "    } while (position < fileData.byteLength);\n",
              "  }\n",
              "\n",
              "  // All done.\n",
              "  yield {\n",
              "    response: {\n",
              "      action: 'complete',\n",
              "    }\n",
              "  };\n",
              "}\n",
              "\n",
              "scope.google = scope.google || {};\n",
              "scope.google.colab = scope.google.colab || {};\n",
              "scope.google.colab._files = {\n",
              "  _uploadFiles,\n",
              "  _uploadFilesContinue,\n",
              "};\n",
              "})(self);\n",
              "</script> "
            ]
          },
          "metadata": {}
        },
        {
          "output_type": "stream",
          "name": "stdout",
          "text": [
            "Saving ALLIANCE FINANCE COMPANY PLC.csv to ALLIANCE FINANCE COMPANY PLC.csv\n"
          ]
        }
      ]
    },
    {
      "cell_type": "code",
      "source": [
        "import io\n",
        "df = pd.read_csv(io.BytesIO(data_to_load['ALLIANCE FINANCE COMPANY PLC.csv']))\n",
        "df"
      ],
      "metadata": {
        "colab": {
          "base_uri": "https://localhost:8080/",
          "height": 748
        },
        "id": "OtD22yTTXt3d",
        "outputId": "20a782f5-1890-465a-9da0-89030c0a0e89"
      },
      "execution_count": null,
      "outputs": [
        {
          "output_type": "execute_result",
          "data": {
            "text/plain": [
              "    Trade_Date  Open   High    Low   Close  Change  Lable  \\\n",
              "0      6/28/22   50.5   52.1  50.5   51.00    0.50      1   \n",
              "1      6/27/22   53.6   53.6  51.2   53.80    0.20      1   \n",
              "2      6/27/22   53.6   53.6  51.2   53.80    0.20      1   \n",
              "3      6/22/22   51.0   51.0  50.0   50.50   -0.50      0   \n",
              "4      6/22/22   51.0   51.0  50.0   50.50   -0.50      0   \n",
              "..         ...    ...    ...   ...     ...     ...    ...   \n",
              "164   12/28/21  105.0  105.0  96.5  100.00   -5.00      0   \n",
              "165   12/27/21   95.0  112.0  95.0  103.75    8.75      1   \n",
              "166   12/27/21   95.0  112.0  95.0  103.75    8.75      1   \n",
              "167   12/24/21   91.0   92.6  89.0   90.30   -0.70      0   \n",
              "168   12/23/21   92.8   95.0  90.0   91.60   -1.20      0   \n",
              "\n",
              "                                                Tweets  Negative  Neutral  \\\n",
              "0     LIOC top 100 SH comparison 30/05 to 20/06    ...     0.000    0.795   \n",
              "1    If you have a little bit of commercial sense, ...     0.194    0.806   \n",
              "2    _UNP will have a separate hell to go for rescu...     0.304    0.696   \n",
              "3     Entire Sri Lanka is grateful to team Australi...     0.000    0.647   \n",
              "4                           CSE https//t.co/OREuFsx5Kl     0.000    1.000   \n",
              "..                                                 ...       ...      ...   \n",
              "164   Yeah. Very strong price action. SHL is the ul...     0.000    0.651   \n",
              "165                       _Media Market capitalization     0.000    1.000   \n",
              "166    Thought to eliminate any value consideration...     0.000    0.670   \n",
              "167  ? I rarely buy a stock that has corrected 60% ...     0.000    1.000   \n",
              "168                          One of fabulous quote by      0.000    0.541   \n",
              "\n",
              "     Positive  Compound  Subjectivity  Polarity Sentiment_Analysis  \n",
              "0       0.205    0.2023      0.500000  0.500000           Positive  \n",
              "1       0.000   -0.8555      0.363333 -0.107500           Negative  \n",
              "2       0.000   -0.8625      0.800000 -0.800000           Negative  \n",
              "3       0.353    0.9729      0.491667  0.166667           Positive  \n",
              "4       0.000    0.0000      0.000000  0.000000            Neutral  \n",
              "..        ...       ...           ...       ...                ...  \n",
              "164     0.349    0.8955      0.475565  0.195119           Positive  \n",
              "165     0.000    0.0000      0.000000  0.000000            Neutral  \n",
              "166     0.330    0.9226      0.585714  0.000000            Neutral  \n",
              "167     0.000    0.0000      0.633333  0.433333           Positive  \n",
              "168     0.459    0.5267      1.000000  0.400000           Positive  \n",
              "\n",
              "[169 rows x 15 columns]"
            ],
            "text/html": [
              "\n",
              "  <div id=\"df-dd33cce1-7395-47ec-8b27-66c6e8ce8230\">\n",
              "    <div class=\"colab-df-container\">\n",
              "      <div>\n",
              "<style scoped>\n",
              "    .dataframe tbody tr th:only-of-type {\n",
              "        vertical-align: middle;\n",
              "    }\n",
              "\n",
              "    .dataframe tbody tr th {\n",
              "        vertical-align: top;\n",
              "    }\n",
              "\n",
              "    .dataframe thead th {\n",
              "        text-align: right;\n",
              "    }\n",
              "</style>\n",
              "<table border=\"1\" class=\"dataframe\">\n",
              "  <thead>\n",
              "    <tr style=\"text-align: right;\">\n",
              "      <th></th>\n",
              "      <th>Trade_Date</th>\n",
              "      <th>Open</th>\n",
              "      <th>High</th>\n",
              "      <th>Low</th>\n",
              "      <th>Close</th>\n",
              "      <th>Change</th>\n",
              "      <th>Lable</th>\n",
              "      <th>Tweets</th>\n",
              "      <th>Negative</th>\n",
              "      <th>Neutral</th>\n",
              "      <th>Positive</th>\n",
              "      <th>Compound</th>\n",
              "      <th>Subjectivity</th>\n",
              "      <th>Polarity</th>\n",
              "      <th>Sentiment_Analysis</th>\n",
              "    </tr>\n",
              "  </thead>\n",
              "  <tbody>\n",
              "    <tr>\n",
              "      <th>0</th>\n",
              "      <td>6/28/22</td>\n",
              "      <td>50.5</td>\n",
              "      <td>52.1</td>\n",
              "      <td>50.5</td>\n",
              "      <td>51.00</td>\n",
              "      <td>0.50</td>\n",
              "      <td>1</td>\n",
              "      <td>LIOC top 100 SH comparison 30/05 to 20/06    ...</td>\n",
              "      <td>0.000</td>\n",
              "      <td>0.795</td>\n",
              "      <td>0.205</td>\n",
              "      <td>0.2023</td>\n",
              "      <td>0.500000</td>\n",
              "      <td>0.500000</td>\n",
              "      <td>Positive</td>\n",
              "    </tr>\n",
              "    <tr>\n",
              "      <th>1</th>\n",
              "      <td>6/27/22</td>\n",
              "      <td>53.6</td>\n",
              "      <td>53.6</td>\n",
              "      <td>51.2</td>\n",
              "      <td>53.80</td>\n",
              "      <td>0.20</td>\n",
              "      <td>1</td>\n",
              "      <td>If you have a little bit of commercial sense, ...</td>\n",
              "      <td>0.194</td>\n",
              "      <td>0.806</td>\n",
              "      <td>0.000</td>\n",
              "      <td>-0.8555</td>\n",
              "      <td>0.363333</td>\n",
              "      <td>-0.107500</td>\n",
              "      <td>Negative</td>\n",
              "    </tr>\n",
              "    <tr>\n",
              "      <th>2</th>\n",
              "      <td>6/27/22</td>\n",
              "      <td>53.6</td>\n",
              "      <td>53.6</td>\n",
              "      <td>51.2</td>\n",
              "      <td>53.80</td>\n",
              "      <td>0.20</td>\n",
              "      <td>1</td>\n",
              "      <td>_UNP will have a separate hell to go for rescu...</td>\n",
              "      <td>0.304</td>\n",
              "      <td>0.696</td>\n",
              "      <td>0.000</td>\n",
              "      <td>-0.8625</td>\n",
              "      <td>0.800000</td>\n",
              "      <td>-0.800000</td>\n",
              "      <td>Negative</td>\n",
              "    </tr>\n",
              "    <tr>\n",
              "      <th>3</th>\n",
              "      <td>6/22/22</td>\n",
              "      <td>51.0</td>\n",
              "      <td>51.0</td>\n",
              "      <td>50.0</td>\n",
              "      <td>50.50</td>\n",
              "      <td>-0.50</td>\n",
              "      <td>0</td>\n",
              "      <td>Entire Sri Lanka is grateful to team Australi...</td>\n",
              "      <td>0.000</td>\n",
              "      <td>0.647</td>\n",
              "      <td>0.353</td>\n",
              "      <td>0.9729</td>\n",
              "      <td>0.491667</td>\n",
              "      <td>0.166667</td>\n",
              "      <td>Positive</td>\n",
              "    </tr>\n",
              "    <tr>\n",
              "      <th>4</th>\n",
              "      <td>6/22/22</td>\n",
              "      <td>51.0</td>\n",
              "      <td>51.0</td>\n",
              "      <td>50.0</td>\n",
              "      <td>50.50</td>\n",
              "      <td>-0.50</td>\n",
              "      <td>0</td>\n",
              "      <td>CSE https//t.co/OREuFsx5Kl</td>\n",
              "      <td>0.000</td>\n",
              "      <td>1.000</td>\n",
              "      <td>0.000</td>\n",
              "      <td>0.0000</td>\n",
              "      <td>0.000000</td>\n",
              "      <td>0.000000</td>\n",
              "      <td>Neutral</td>\n",
              "    </tr>\n",
              "    <tr>\n",
              "      <th>...</th>\n",
              "      <td>...</td>\n",
              "      <td>...</td>\n",
              "      <td>...</td>\n",
              "      <td>...</td>\n",
              "      <td>...</td>\n",
              "      <td>...</td>\n",
              "      <td>...</td>\n",
              "      <td>...</td>\n",
              "      <td>...</td>\n",
              "      <td>...</td>\n",
              "      <td>...</td>\n",
              "      <td>...</td>\n",
              "      <td>...</td>\n",
              "      <td>...</td>\n",
              "      <td>...</td>\n",
              "    </tr>\n",
              "    <tr>\n",
              "      <th>164</th>\n",
              "      <td>12/28/21</td>\n",
              "      <td>105.0</td>\n",
              "      <td>105.0</td>\n",
              "      <td>96.5</td>\n",
              "      <td>100.00</td>\n",
              "      <td>-5.00</td>\n",
              "      <td>0</td>\n",
              "      <td>Yeah. Very strong price action. SHL is the ul...</td>\n",
              "      <td>0.000</td>\n",
              "      <td>0.651</td>\n",
              "      <td>0.349</td>\n",
              "      <td>0.8955</td>\n",
              "      <td>0.475565</td>\n",
              "      <td>0.195119</td>\n",
              "      <td>Positive</td>\n",
              "    </tr>\n",
              "    <tr>\n",
              "      <th>165</th>\n",
              "      <td>12/27/21</td>\n",
              "      <td>95.0</td>\n",
              "      <td>112.0</td>\n",
              "      <td>95.0</td>\n",
              "      <td>103.75</td>\n",
              "      <td>8.75</td>\n",
              "      <td>1</td>\n",
              "      <td>_Media Market capitalization</td>\n",
              "      <td>0.000</td>\n",
              "      <td>1.000</td>\n",
              "      <td>0.000</td>\n",
              "      <td>0.0000</td>\n",
              "      <td>0.000000</td>\n",
              "      <td>0.000000</td>\n",
              "      <td>Neutral</td>\n",
              "    </tr>\n",
              "    <tr>\n",
              "      <th>166</th>\n",
              "      <td>12/27/21</td>\n",
              "      <td>95.0</td>\n",
              "      <td>112.0</td>\n",
              "      <td>95.0</td>\n",
              "      <td>103.75</td>\n",
              "      <td>8.75</td>\n",
              "      <td>1</td>\n",
              "      <td>Thought to eliminate any value consideration...</td>\n",
              "      <td>0.000</td>\n",
              "      <td>0.670</td>\n",
              "      <td>0.330</td>\n",
              "      <td>0.9226</td>\n",
              "      <td>0.585714</td>\n",
              "      <td>0.000000</td>\n",
              "      <td>Neutral</td>\n",
              "    </tr>\n",
              "    <tr>\n",
              "      <th>167</th>\n",
              "      <td>12/24/21</td>\n",
              "      <td>91.0</td>\n",
              "      <td>92.6</td>\n",
              "      <td>89.0</td>\n",
              "      <td>90.30</td>\n",
              "      <td>-0.70</td>\n",
              "      <td>0</td>\n",
              "      <td>? I rarely buy a stock that has corrected 60% ...</td>\n",
              "      <td>0.000</td>\n",
              "      <td>1.000</td>\n",
              "      <td>0.000</td>\n",
              "      <td>0.0000</td>\n",
              "      <td>0.633333</td>\n",
              "      <td>0.433333</td>\n",
              "      <td>Positive</td>\n",
              "    </tr>\n",
              "    <tr>\n",
              "      <th>168</th>\n",
              "      <td>12/23/21</td>\n",
              "      <td>92.8</td>\n",
              "      <td>95.0</td>\n",
              "      <td>90.0</td>\n",
              "      <td>91.60</td>\n",
              "      <td>-1.20</td>\n",
              "      <td>0</td>\n",
              "      <td>One of fabulous quote by</td>\n",
              "      <td>0.000</td>\n",
              "      <td>0.541</td>\n",
              "      <td>0.459</td>\n",
              "      <td>0.5267</td>\n",
              "      <td>1.000000</td>\n",
              "      <td>0.400000</td>\n",
              "      <td>Positive</td>\n",
              "    </tr>\n",
              "  </tbody>\n",
              "</table>\n",
              "<p>169 rows × 15 columns</p>\n",
              "</div>\n",
              "      <button class=\"colab-df-convert\" onclick=\"convertToInteractive('df-dd33cce1-7395-47ec-8b27-66c6e8ce8230')\"\n",
              "              title=\"Convert this dataframe to an interactive table.\"\n",
              "              style=\"display:none;\">\n",
              "        \n",
              "  <svg xmlns=\"http://www.w3.org/2000/svg\" height=\"24px\"viewBox=\"0 0 24 24\"\n",
              "       width=\"24px\">\n",
              "    <path d=\"M0 0h24v24H0V0z\" fill=\"none\"/>\n",
              "    <path d=\"M18.56 5.44l.94 2.06.94-2.06 2.06-.94-2.06-.94-.94-2.06-.94 2.06-2.06.94zm-11 1L8.5 8.5l.94-2.06 2.06-.94-2.06-.94L8.5 2.5l-.94 2.06-2.06.94zm10 10l.94 2.06.94-2.06 2.06-.94-2.06-.94-.94-2.06-.94 2.06-2.06.94z\"/><path d=\"M17.41 7.96l-1.37-1.37c-.4-.4-.92-.59-1.43-.59-.52 0-1.04.2-1.43.59L10.3 9.45l-7.72 7.72c-.78.78-.78 2.05 0 2.83L4 21.41c.39.39.9.59 1.41.59.51 0 1.02-.2 1.41-.59l7.78-7.78 2.81-2.81c.8-.78.8-2.07 0-2.86zM5.41 20L4 18.59l7.72-7.72 1.47 1.35L5.41 20z\"/>\n",
              "  </svg>\n",
              "      </button>\n",
              "      \n",
              "  <style>\n",
              "    .colab-df-container {\n",
              "      display:flex;\n",
              "      flex-wrap:wrap;\n",
              "      gap: 12px;\n",
              "    }\n",
              "\n",
              "    .colab-df-convert {\n",
              "      background-color: #E8F0FE;\n",
              "      border: none;\n",
              "      border-radius: 50%;\n",
              "      cursor: pointer;\n",
              "      display: none;\n",
              "      fill: #1967D2;\n",
              "      height: 32px;\n",
              "      padding: 0 0 0 0;\n",
              "      width: 32px;\n",
              "    }\n",
              "\n",
              "    .colab-df-convert:hover {\n",
              "      background-color: #E2EBFA;\n",
              "      box-shadow: 0px 1px 2px rgba(60, 64, 67, 0.3), 0px 1px 3px 1px rgba(60, 64, 67, 0.15);\n",
              "      fill: #174EA6;\n",
              "    }\n",
              "\n",
              "    [theme=dark] .colab-df-convert {\n",
              "      background-color: #3B4455;\n",
              "      fill: #D2E3FC;\n",
              "    }\n",
              "\n",
              "    [theme=dark] .colab-df-convert:hover {\n",
              "      background-color: #434B5C;\n",
              "      box-shadow: 0px 1px 3px 1px rgba(0, 0, 0, 0.15);\n",
              "      filter: drop-shadow(0px 1px 2px rgba(0, 0, 0, 0.3));\n",
              "      fill: #FFFFFF;\n",
              "    }\n",
              "  </style>\n",
              "\n",
              "      <script>\n",
              "        const buttonEl =\n",
              "          document.querySelector('#df-dd33cce1-7395-47ec-8b27-66c6e8ce8230 button.colab-df-convert');\n",
              "        buttonEl.style.display =\n",
              "          google.colab.kernel.accessAllowed ? 'block' : 'none';\n",
              "\n",
              "        async function convertToInteractive(key) {\n",
              "          const element = document.querySelector('#df-dd33cce1-7395-47ec-8b27-66c6e8ce8230');\n",
              "          const dataTable =\n",
              "            await google.colab.kernel.invokeFunction('convertToInteractive',\n",
              "                                                     [key], {});\n",
              "          if (!dataTable) return;\n",
              "\n",
              "          const docLinkHtml = 'Like what you see? Visit the ' +\n",
              "            '<a target=\"_blank\" href=https://colab.research.google.com/notebooks/data_table.ipynb>data table notebook</a>'\n",
              "            + ' to learn more about interactive tables.';\n",
              "          element.innerHTML = '';\n",
              "          dataTable['output_type'] = 'display_data';\n",
              "          await google.colab.output.renderOutput(dataTable, element);\n",
              "          const docLink = document.createElement('div');\n",
              "          docLink.innerHTML = docLinkHtml;\n",
              "          element.appendChild(docLink);\n",
              "        }\n",
              "      </script>\n",
              "    </div>\n",
              "  </div>\n",
              "  "
            ]
          },
          "metadata": {},
          "execution_count": 5
        }
      ]
    },
    {
      "cell_type": "code",
      "source": [
        "df.Polarity"
      ],
      "metadata": {
        "colab": {
          "base_uri": "https://localhost:8080/"
        },
        "id": "HwRwvjisA1eE",
        "outputId": "7d8ac3c0-18d4-44eb-e6b4-35b8f907c88c"
      },
      "execution_count": null,
      "outputs": [
        {
          "output_type": "execute_result",
          "data": {
            "text/plain": [
              "0      0.500000\n",
              "1     -0.107500\n",
              "2     -0.800000\n",
              "3      0.166667\n",
              "4      0.000000\n",
              "         ...   \n",
              "164    0.195119\n",
              "165    0.000000\n",
              "166    0.000000\n",
              "167    0.433333\n",
              "168    0.400000\n",
              "Name: Polarity, Length: 169, dtype: float64"
            ]
          },
          "metadata": {},
          "execution_count": 6
        }
      ]
    },
    {
      "cell_type": "code",
      "source": [
        "plt.figure(figsize=(50,25))\n",
        "x= df.Trade_Date\n",
        "y1= df.Change\n",
        "y2= df.Polarity\n",
        "\n",
        "\n",
        "plt.subplot(2,1,1)\n",
        "plt.plot(x,y1)\n",
        "plt.title(\"Stock Price Change VS Sentiment\")\n",
        "plt.ylabel(\"Stock Price Change\")\n",
        "plt.xlabel(\"Date\")\n",
        "\n",
        "plt.figure(figsize=(50,25))\n",
        "plt.subplot(2,1,2)\n",
        "plt.plot(x,y2)\n",
        "plt.ylabel(\"Sentiment\")\n",
        "plt.xlabel(\"Date\")"
      ],
      "metadata": {
        "colab": {
          "base_uri": "https://localhost:8080/",
          "height": 580
        },
        "id": "lSXOB2ByBUCu",
        "outputId": "b2875bef-fe53-4568-96a8-36cfa1b8cd5c"
      },
      "execution_count": null,
      "outputs": [
        {
          "output_type": "execute_result",
          "data": {
            "text/plain": [
              "Text(0.5, 0, 'Date')"
            ]
          },
          "metadata": {},
          "execution_count": 7
        },
        {
          "output_type": "display_data",
          "data": {
            "text/plain": [
              "<Figure size 3600x1800 with 1 Axes>"
            ],
            "image/png": "[encoded data removed]"
          },
          "metadata": {
            "needs_background": "light"
          }
        },
        {
          "output_type": "display_data",
          "data": {
            "text/plain": [
              "<Figure size 3600x1800 with 1 Axes>"
            ],
            "image/png": "[encoded data removed]"
          },
          "metadata": {
            "needs_background": "light"
          }
        }
      ]
    },
    {
      "cell_type": "code",
      "source": [
        "plt.figure(figsize=(50,25))\n",
        "ax=sns.regplot(x=\"Polarity\",y=\"Change\",data=df,x_estimator=np.mean)\n",
        "plt.plot(x,y2)\n",
        "plt.title(\"Stock Price Change VS Sentiment Polarity\")\n",
        "plt.ylabel(\"Stock Price Change\")\n",
        "plt.xlabel(\"Tweets Sentiment Polarity\")"
      ],
      "metadata": {
        "colab": {
          "base_uri": "https://localhost:8080/",
          "height": 613
        },
        "id": "QsG-iCpNja06",
        "outputId": "4319507e-05e0-4b02-cff2-b59e6e3805cd"
      },
      "execution_count": null,
      "outputs": [
        {
          "output_type": "execute_result",
          "data": {
            "text/plain": [
              "Text(0.5, 0, 'Tweets Sentiment Polarity')"
            ]
          },
          "metadata": {},
          "execution_count": 18
        },
        {
          "output_type": "display_data",
          "data": {
            "text/plain": [
              "<Figure size 3600x1800 with 1 Axes>"
            ],
            "image/png": "[encoded data removed]"
          },
          "metadata": {
            "needs_background": "light"
          }
        }
      ]
    },
    {
      "cell_type": "code",
      "source": [],
      "metadata": {
        "id": "xFOMFdpOmAmY"
      },
      "execution_count": null,
      "outputs": []
    }
  ]
}